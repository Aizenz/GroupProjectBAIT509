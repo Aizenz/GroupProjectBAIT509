{
 "cells": [
  {
   "cell_type": "code",
   "execution_count": null,
   "metadata": {},
   "outputs": [],
   "source": [
    "# create sql connection\n",
    "from sqlalchemy import create_engine\n",
    "import pandas as pd\n",
    "import json\n",
    "import urllib.parse\n",
    "import psycopg2\n",
    "import os \n",
    "with open(\"credentials.json\") as file:\n",
    "    login = json.load(file)\n",
    "    \n",
    "username = login['user']\n",
    "password = urllib.parse.quote(login['password'])\n",
    "host = login['host']\n",
    "port = login['port']\n",
    "\n",
    "engine = create_engine(\"postgresql://{}:{}@{}:{}/postgres\".format(username,password,host,port))"
   ]
  }
 ],
 "metadata": {
  "kernelspec": {
   "display_name": "Python 3",
   "language": "python",
   "name": "python3"
  },
  "language_info": {
   "name": "python",
   "version": "3.9.6"
  }
 },
 "nbformat": 4,
 "nbformat_minor": 2
}
