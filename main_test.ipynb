{
 "cells": [
  {
   "cell_type": "markdown",
   "metadata": {},
   "source": [
    "# BAIT509 Group Project\n",
    "primary goal, target variable: da013, did people participate in physical examination in the last 5 years"
   ]
  },
  {
   "cell_type": "markdown",
   "metadata": {},
   "source": [
    "## 1. Data Preprocessing"
   ]
  },
  {
   "cell_type": "markdown",
   "metadata": {},
   "source": [
    "## 1. 1 fetching data from SQL server"
   ]
  },
  {
   "cell_type": "code",
   "execution_count": 1,
   "metadata": {},
   "outputs": [],
   "source": [
    "# create sql connection\n",
    "from sqlalchemy import create_engine\n",
    "import pandas as pd\n",
    "import json\n",
    "import urllib.parse\n",
    "import psycopg2\n",
    "import os \n",
    "with open(\"credentials.json\") as file:\n",
    "    login = json.load(file)\n",
    "    \n",
    "username = login['user']\n",
    "password = urllib.parse.quote(login['password'])\n",
    "host = login['host']\n",
    "port = login['port']\n",
    "\n",
    "engine = create_engine(\"postgresql://{}:{}@{}:{}/postgres\".format(username,password,host,port))"
   ]
  },
  {
   "cell_type": "code",
   "execution_count": 2,
   "metadata": {},
   "outputs": [],
   "source": [
    "# merge data\n",
    "if 'df.csv' not in os.listdir():\n",
    "    with engine.connect() as cnn:\n",
    "        \"\"\"\n",
    "        With any proxy parameter == TRUE, this questionnair is answered by others, so we will drop them all\n",
    "        \"\"\"\n",
    "        df = pd.read_sql(\"\"\"\n",
    "                            SELECT \n",
    "                                a.\"UID\",\n",
    "                                a.\"householdUID\", \n",
    "                                a.\"communityUID\",\n",
    "                                proxy_2,\n",
    "                                ba001,\n",
    "                                ba009,\n",
    "                                ba011,\n",
    "                                ba014,\n",
    "                                ba015,\n",
    "                                ba016,\n",
    "                                ba017,\n",
    "                                proxy,\n",
    "                                proxy_5,\n",
    "                                da001,\n",
    "                                da002_1_,\n",
    "                                da002_2_,\n",
    "                                da002_3_,\n",
    "                                da002_4_,\n",
    "                                da002_5_,\n",
    "                                da002_6_,\n",
    "                                da002_7_,\n",
    "                                da002_8_,\n",
    "                                da002_9_,\n",
    "                                da002_10_,\n",
    "                                da002_11_,\n",
    "                                da002_12_,\n",
    "                                da002_13_,\n",
    "                                da002_14_,\n",
    "                                da013,\n",
    "                                da019,\n",
    "                                da022,\n",
    "                                da025,\n",
    "                                da027,\n",
    "                                da029,\n",
    "                                da030,\n",
    "                                da031,\n",
    "                                da038_s1,\n",
    "                                da038_s2,\n",
    "                                da038_s3,\n",
    "                                da038_s4,\n",
    "                                da038_s5,\n",
    "                                da038_s6,\n",
    "                                da038_s7,\n",
    "                                da038_s8,\n",
    "                                da038_s9,\n",
    "                                da040,\n",
    "                                da050_1,\n",
    "                                da051,\n",
    "                                db001,\n",
    "                                db003,\n",
    "                                db005,\n",
    "                                db007,\n",
    "                                db009,\n",
    "                                db011,\n",
    "                                db012,\n",
    "                                db014,\n",
    "                                db016,\n",
    "                                db018,\n",
    "                                db020,\n",
    "                                db022,\n",
    "                                fa001,\n",
    "                                fc006,\n",
    "                                fc008\n",
    "                            from charles.work_retirement a\n",
    "                            join charles.health_status_and_functioning using(\"UID\")\n",
    "                            join charles.demographic_background using(\"UID\")\n",
    "                                        \"\"\", con = cnn)\n",
    "        df.to_csv('df.csv')\n",
    "else:\n",
    "    pass"
   ]
  },
  {
   "cell_type": "markdown",
   "metadata": {},
   "source": [
    "### 1.2. Drop unrelative data"
   ]
  },
  {
   "cell_type": "code",
   "execution_count": 3,
   "metadata": {},
   "outputs": [],
   "source": [
    "# drop survey done by others\n",
    "df = pd.read_csv('df.csv', index_col=0)\n",
    "proxy_var = ['proxy','proxy_2','proxy_5']\n",
    "mask = df[proxy_var].apply(lambda x: x.str.contains('1 Yes')).any(axis=1)\n",
    "df = df[~mask].drop(labels=proxy_var, axis=1)"
   ]
  },
  {
   "cell_type": "markdown",
   "metadata": {},
   "source": [
    "* Now based on data types, will will process different proprecessing for them:\n",
    "    * imputer\n",
    "    * binary: keep it with 0 or 1\n",
    "    * categorical:\n",
    "      * if with meaning, use ordinal encode, positive impact with larger number\n",
    "      * if not, use one-hot encode\n",
    "    * numerical:\n",
    "      * scalar\n"
   ]
  },
  {
   "cell_type": "markdown",
   "metadata": {},
   "source": [
    "### 1.3. Transform data from string to numeric data"
   ]
  },
  {
   "cell_type": "code",
   "execution_count": 4,
   "metadata": {},
   "outputs": [
    {
     "data": {
      "text/plain": [
       "ba001                                       [1 Male, 2 Female]\n",
       "ba009        [2 Non-Agricultural HuKou, 3 Unified Residence...\n",
       "ba011        [1 Married with Spouse Present, 4 Divorced, 5 ...\n",
       "ba014        [1 One Month, Participate in the Endowment Ins...\n",
       "ba015        [2 Worker's Basic Endownment Insurace, 3 Socia...\n",
       "ba016        [2 No Need to Pay, 1 Cost Per Year, 3 No Socia...\n",
       "ba017                      [5.0, 3.0, 1.0, nan, 4.0, 2.0, 6.0]\n",
       "da001        [1 Very Good, 3 Fair, 4 Poor, 2 Good, 5 Very P...\n",
       "da002_1_     [nan, 3 Same, 1 Better, 2 Worse, 99 Never Had ...\n",
       "da002_2_     [3 Same, nan, 1 Better, 2 Worse, 99 Never Had ...\n",
       "da002_3_     [nan, 2 Worse, 3 Same, 99 Never Had the Diseas...\n",
       "da002_4_     [nan, 1 Better, 3 Same, 99 Never Had the Disea...\n",
       "da002_5_     [nan, 99 Never Had the Disease, 3 Same, 1 Bett...\n",
       "da002_6_     [nan, 99 Never Had the Disease, 3 Same, 1 Bett...\n",
       "da002_7_     [nan, 3 Same, 2 Worse, 1 Better, 99 Never Had ...\n",
       "da002_8_     [nan, 1 Better, 3 Same, 99 Never Had the Disea...\n",
       "da002_9_     [nan, 3 Same, 1 Better, 99 Never Had the Disea...\n",
       "da002_10_    [nan, 3 Same, 1 Better, 2 Worse, 99 Never Had ...\n",
       "da002_11_    [nan, 2 Worse, 1 Better, 3 Same, 99 Never Had ...\n",
       "da002_12_     [nan, 99 Never Had the Disease, 2 Worse, 3 Same]\n",
       "da002_13_    [nan, 99 Never Had the Disease, 3 Same, 2 Wors...\n",
       "da002_14_    [nan, 3 Same, 99 Never Had the Disease, 1 Bett...\n",
       "da013        [1 Year and Month, 2 No Physical Examination S...\n",
       "da019                                       [2 No, 1 Yes, nan]\n",
       "da022                                       [2 No, 1 Yes, nan]\n",
       "da025                                       [2 No, 1 Yes, nan]\n",
       "da027        [1 None, 2 A little, 3 Somewhat, 4 Quite a Bit...\n",
       "da029        [5 Almost Certain, 3 Maybe, 1 Almost Impossibl...\n",
       "da030        [6.0, 7.0, 5.0, 8.0, 6.5, 4.0, 4.5, 10.0, 5.5,...\n",
       "da031        [30.0, 60.0, 80.0, 90.0, 0.0, 40.0, 15.0, 4.0,...\n",
       "da038_s1                [1 Interacted With Friends, 0 No, nan]\n",
       "da038_s2     [0 No, 2 Played Ma-jong, Played Chess, Played ...\n",
       "da038_s3     [3 Provided Help to Family, Friends, or Neighb...\n",
       "da038_s4     [0 No, 4 Went to a Sport, Social, or Other Kin...\n",
       "da038_s5     [0 No, 5 Took Part in a Community-Related Orga...\n",
       "da038_s6     [0 No, 6 Done Voluntary or Charity work, or Ca...\n",
       "da038_s7     [0 No, 7 Attended an Educational or Training C...\n",
       "da038_s8                 [0 No, 8 Others, Please Specify, nan]\n",
       "da038_s9                          [0 No, 9 None of These, nan]\n",
       "da040                                       [1 Yes, 2 No, nan]\n",
       "da050_1      [6.0, nan, 20.0, 30.0, 15.0, 3.0, 5.0, 14.0, 1...\n",
       "da051        [1 Drink More than Once a Month, 3 None of The...\n",
       "db001        [1 Don't Have Any Difficulty, 2 Have Difficult...\n",
       "db003        [1 Don't Have Any Difficulty, 2 Have Difficult...\n",
       "db005        [1 Don't Have Any Difficulty, 2 Have Difficult...\n",
       "db007        [1 Don't Have Any Difficulty, 2 Have Difficult...\n",
       "db009        [1 Don't Have Any Difficulty, 2 Have Difficult...\n",
       "db011        [1 Don't Have Any Difficulty, 2 Have Difficult...\n",
       "db012        [1 Don't Have Any Difficulty, 2 Have Difficult...\n",
       "db014        [1 Don't Have Any Difficulty, 2 Have Difficult...\n",
       "db016        [1 Don't Have Any Difficulty, 3 Have Difficult...\n",
       "db018        [1 Don't Have Any Difficulty, 2 Have Difficult...\n",
       "db020        [1 Don't Have Any Difficulty, 2 Have Difficult...\n",
       "db022        [1 Don't Have Any Difficulty, 4 Can Not Do It,...\n",
       "fa001                                       [1 Yes, 2 No, nan]\n",
       "fc006                                       [nan, 2 No, 1 Yes]\n",
       "fc008                                       [2 No, nan, 1 Yes]\n",
       "dtype: object"
      ]
     },
     "execution_count": 4,
     "metadata": {},
     "output_type": "execute_result"
    }
   ],
   "source": [
    "df.iloc[:,3:].apply(lambda x: x.unique())"
   ]
  },
  {
   "cell_type": "markdown",
   "metadata": {},
   "source": [
    "### 1.4. Fill NaN and Error values\n",
    "\n",
    "Based on the survey, we decided to apply different fill na strategies to keep all columns ordinal.\n",
    "\n",
    "| Column    | Non-Null Count | Data Type | Fill Strategy                                |\n",
    "|-----------|----------------|-----------|----------------------------------------------|\n",
    "| ba015     | 14982          | object    | fill 0                                       |\n",
    "| ba017     | 16764          | float64   | fill 0                                       |\n",
    "| da002_1_  | 5896           | object    | fill 99 then replace to 0, same for all da002_x_ |\n",
    "| da002_2_  | 3457           | object    |                                              |\n",
    "| da002_3_  | 1965           | object    |                                              |\n",
    "| da002_4_  | 308            | object    |                                              |\n",
    "| da002_5_  | 2041           | object    |                                              |\n",
    "| da002_6_  | 1068           | object    |                                              |\n",
    "| da002_7_  | 2992           | object    |                                              |\n",
    "| da002_8_  | 982            | object    |                                              |\n",
    "| da002_9_  | 1482           | object    |                                              |\n",
    "| da002_10_ | 4941           | object    |                                              |\n",
    "| da002_11_ | 291            | object    |                                              |\n",
    "| da002_12_ | 12             | object    |                                              |\n",
    "| da002_13_ | 285            | object    |                                              |\n",
    "| da002_14_ | 6085           | object    |                                              |\n",
    "| da013     | 17472          | object    | fill 2                                       |\n",
    "| da019     | 17472          | object    | fill 2                                       |\n",
    "| da022     | 17472          | object    | fill 2                                       |\n",
    "| da025     | 17472          | object    | fill 2                                       |\n",
    "| da027     | 17559          | object    | fill 1                                       |\n",
    "| da029     | 17559          | object    | fill 3                                       |\n",
    "| da030     | 17558          | float64   | fill mean if necessary                       |\n",
    "| da031     | 17558          | float64   | fill mean if necessary                       |\n",
    "| da038_s1  | 17555          | object    | fill 0 for all da038                         |\n",
    "| da038_s2  | 17555          | object    |                                              |\n",
    "| da038_s3  | 17555          | object    |                                              |\n",
    "| da038_s4  | 17555          | object    |                                              |\n",
    "| da038_s5  | 17555          | object    |                                              |\n",
    "| da038_s6  | 17555          | object    |                                              |\n",
    "| da038_s7  | 17555          | object    |                                              |\n",
    "| da038_s8  | 17555          | object    |                                              |\n",
    "| da038_s9  | 17555          | object    |                                              |\n",
    "| da040     | 17555          | object    |                                              |\n",
    "| da050_1   | 4494           | float64   | fill 0                                       |\n",
    "| da051     | 17555          | object    | fill 3                                       |\n",
    "| db001     | 17555          | object    | fill 1 for all db0XX                         |\n",
    "| db003     | 17555          | object    |                                              |\n",
    "| db005     | 17555          | object    |                                              |\n",
    "| db007     | 17555          | object    |                                              |\n",
    "| db009     | 17555          | object    |                                              |\n",
    "| db011     | 17555          | object    |                                              |\n",
    "| db012     | 17555          | object    |                                              |\n",
    "| db014     | 17555          | object    |                                              |\n",
    "| db016     | 17555          | object    |                                              |\n",
    "| db018     | 17555          | object    |                                              |\n",
    "| db020     | 17555          | object    |                                              |\n",
    "| db022     | 17555          | object    |                                              |\n",
    "| fa001     | 17562          | object    |                                              |\n",
    "| fc006     | 397            | object    | fill 2                                       |\n",
    "| fc008     | 344            | object    | fill 2                                       |\n"
   ]
  },
  {
   "cell_type": "code",
   "execution_count": 5,
   "metadata": {},
   "outputs": [],
   "source": [
    "# for different columns we will apply different strategies\n",
    "fillna0 = ['ba015','ba017']+['da038_s'+str(i) for i in range(1,10)]+['da050_1']\n",
    "fillna1 = ['da027']+['db00'+str(i*2+1) for i in range(1,5)]+['db011']+['db0'+str(i*2) for i in range(6,12)]\n",
    "fillna2 = ['da013','da019','da022','da025','fc006','fc008']\n",
    "fillna3 = ['da029','da051']\n",
    "fillna99_0 = ['da002_'+str(i)+'_' for i in range(1,15)]\n",
    "fillna_mean = ['da030','da031']\n",
    "dropna = ['fa001','da040','da001']"
   ]
  },
  {
   "cell_type": "code",
   "execution_count": 6,
   "metadata": {},
   "outputs": [],
   "source": [
    "# firstly, for all elements we only want the first number of all string\n",
    "df = df.applymap(lambda x: x.split()[0] if isinstance(x, str) else x) \n",
    "df = df.applymap(lambda x: float(x) if isinstance(x,str) and len(x)<4 else x)"
   ]
  },
  {
   "cell_type": "code",
   "execution_count": 7,
   "metadata": {},
   "outputs": [],
   "source": [
    "# we still have some non numeric rows, we will deal with it separately\n",
    "df.ba014.unique()\n",
    "\n",
    "# since Participate means the man haven't meet the pension age, so we manually assign it with 6 with means better than no pension but worse than have received pension now,\n",
    "df.ba014 = df.ba014.replace('Participate',6)"
   ]
  },
  {
   "cell_type": "code",
   "execution_count": 8,
   "metadata": {},
   "outputs": [],
   "source": [
    "# now we will fill NaN with rules we have established before\n",
    "fill_na_list = {i:0 for i in fillna0} | {i:1 for i in fillna1} | {i:2 for i in fillna2} | {i:3 for i in fillna3} | {i:99 for i in fillna99_0} \n",
    "df.fillna(value=fill_na_list, inplace = True)\n",
    "df = df.dropna(subset = dropna)"
   ]
  },
  {
   "cell_type": "code",
   "execution_count": 9,
   "metadata": {},
   "outputs": [
    {
     "data": {
      "text/plain": [
       "0"
      ]
     },
     "execution_count": 9,
     "metadata": {},
     "output_type": "execute_result"
    }
   ],
   "source": [
    "# check if null\n",
    "df.isnull().sum().sum()"
   ]
  },
  {
   "cell_type": "code",
   "execution_count": 10,
   "metadata": {},
   "outputs": [
    {
     "data": {
      "text/plain": [
       "ba001                                               [1.0, 2.0]\n",
       "ba009                                     [2.0, 3.0, 1.0, 4.0]\n",
       "ba011                           [1.0, 4.0, 5.0, 6.0, 2.0, 3.0]\n",
       "ba014                      [1.0, 6.0, 2.0, 7.0, 4.0, 3.0, 5.0]\n",
       "ba015                      [2.0, 3.0, 1.0, 0.0, 4.0, 5.0, 6.0]\n",
       "ba016                                          [2.0, 1.0, 3.0]\n",
       "ba017                      [5.0, 3.0, 1.0, 0.0, 4.0, 2.0, 6.0]\n",
       "da001                         [1.0, 3.0, 4.0, 2.0, 5.0, 997.0]\n",
       "da002_1_                                 [99.0, 3.0, 1.0, 2.0]\n",
       "da002_2_                                 [3.0, 99.0, 1.0, 2.0]\n",
       "da002_3_                                 [99.0, 2.0, 3.0, 1.0]\n",
       "da002_4_                                 [99.0, 1.0, 3.0, 2.0]\n",
       "da002_5_                                 [99.0, 3.0, 1.0, 2.0]\n",
       "da002_6_                                 [99.0, 3.0, 1.0, 2.0]\n",
       "da002_7_                                 [99.0, 3.0, 2.0, 1.0]\n",
       "da002_8_                                 [99.0, 1.0, 3.0, 2.0]\n",
       "da002_9_                                 [99.0, 3.0, 1.0, 2.0]\n",
       "da002_10_                                [99.0, 3.0, 1.0, 2.0]\n",
       "da002_11_                                [99.0, 2.0, 1.0, 3.0]\n",
       "da002_12_                                     [99.0, 2.0, 3.0]\n",
       "da002_13_                                [99.0, 3.0, 2.0, 1.0]\n",
       "da002_14_                                [99.0, 3.0, 1.0, 2.0]\n",
       "da013                                               [1.0, 2.0]\n",
       "da019                                               [2.0, 1.0]\n",
       "da022                                               [2.0, 1.0]\n",
       "da025                                               [2.0, 1.0]\n",
       "da027                                [1.0, 2.0, 3.0, 4.0, 5.0]\n",
       "da029                         [5.0, 3.0, 1.0, 4.0, 2.0, 997.0]\n",
       "da030        [6.0, 7.0, 5.0, 8.0, 6.5, 4.0, 4.5, 10.0, 5.5,...\n",
       "da031        [30.0, 60.0, 80.0, 90.0, 0.0, 40.0, 15.0, 4.0,...\n",
       "da038_s1                                            [1.0, 0.0]\n",
       "da038_s2                                            [0.0, 2.0]\n",
       "da038_s3                                            [3.0, 0.0]\n",
       "da038_s4                                            [0.0, 4.0]\n",
       "da038_s5                                            [0.0, 5.0]\n",
       "da038_s6                                            [0.0, 6.0]\n",
       "da038_s7                                            [0.0, 7.0]\n",
       "da038_s8                                            [0.0, 8.0]\n",
       "da038_s9                                            [0.0, 9.0]\n",
       "da040                                               [1.0, 2.0]\n",
       "da050_1      [6.0, 0.0, 20.0, 30.0, 15.0, 3.0, 5.0, 14.0, 1...\n",
       "da051                                          [1.0, 3.0, 2.0]\n",
       "db001                                     [1.0, 2.0, 3.0, 4.0]\n",
       "db003                                     [1.0, 2.0, 3.0, 4.0]\n",
       "db005                                     [1.0, 2.0, 3.0, 4.0]\n",
       "db007                                     [1.0, 2.0, 3.0, 4.0]\n",
       "db009                                     [1.0, 2.0, 3.0, 4.0]\n",
       "db011                                     [1.0, 2.0, 3.0, 4.0]\n",
       "db012                                     [1.0, 2.0, 3.0, 4.0]\n",
       "db014                                     [1.0, 2.0, 4.0, 3.0]\n",
       "db016                                     [1.0, 3.0, 4.0, 2.0]\n",
       "db018                                     [1.0, 2.0, 4.0, 3.0]\n",
       "db020                                     [1.0, 2.0, 3.0, 4.0]\n",
       "db022                                     [1.0, 4.0, 3.0, 2.0]\n",
       "fa001                                               [1.0, 2.0]\n",
       "fc006                                               [2.0, 1.0]\n",
       "fc008                                               [2.0, 1.0]\n",
       "dtype: object"
      ]
     },
     "execution_count": 10,
     "metadata": {},
     "output_type": "execute_result"
    }
   ],
   "source": [
    "# let us to the check again \n",
    "df.iloc[:,3:].apply(lambda x: x.unique())"
   ]
  },
  {
   "cell_type": "markdown",
   "metadata": {},
   "source": [
    "We still have some columns contain 997 which means don't know, we will drop them. While some others contain 99 which means they never have this disease, we will fill it with 0 which accord with the original ordinal;"
   ]
  },
  {
   "cell_type": "code",
   "execution_count": 11,
   "metadata": {},
   "outputs": [],
   "source": [
    "df[fillna99_0] = df[fillna99_0].replace(99,0)\n",
    "\n",
    "# we will not directly apply mean function for da029 because we don't want to break the golden rules\n",
    "# Since da001 is our target label, we don't want a blur answer, so we will just drop those da001 that equals to 997\n",
    "# df['da001'] = df['da001'].replace(997,df.da001[df.da001!=997].mean())\n",
    "# df['da029'] = df['da029'].replace(997,df.da029[df.da029!=997].mean())\n",
    "\n",
    "df = df.loc[df.da001!=997]\n",
    "df = df.loc[df.da029!=997]"
   ]
  },
  {
   "cell_type": "code",
   "execution_count": 12,
   "metadata": {},
   "outputs": [
    {
     "name": "stdout",
     "output_type": "stream",
     "text": [
      "<class 'pandas.core.frame.DataFrame'>\n",
      "Index: 14707 entries, 0 to 19344\n",
      "Data columns (total 60 columns):\n",
      " #   Column        Non-Null Count  Dtype  \n",
      "---  ------        --------------  -----  \n",
      " 0   UID           14707 non-null  int64  \n",
      " 1   householdUID  14707 non-null  int64  \n",
      " 2   communityUID  14707 non-null  int64  \n",
      " 3   ba001         14707 non-null  float64\n",
      " 4   ba009         14707 non-null  float64\n",
      " 5   ba011         14707 non-null  float64\n",
      " 6   ba014         14707 non-null  float64\n",
      " 7   ba015         14707 non-null  float64\n",
      " 8   ba016         14707 non-null  float64\n",
      " 9   ba017         14707 non-null  float64\n",
      " 10  da001         14707 non-null  float64\n",
      " 11  da002_1_      14707 non-null  float64\n",
      " 12  da002_2_      14707 non-null  float64\n",
      " 13  da002_3_      14707 non-null  float64\n",
      " 14  da002_4_      14707 non-null  float64\n",
      " 15  da002_5_      14707 non-null  float64\n",
      " 16  da002_6_      14707 non-null  float64\n",
      " 17  da002_7_      14707 non-null  float64\n",
      " 18  da002_8_      14707 non-null  float64\n",
      " 19  da002_9_      14707 non-null  float64\n",
      " 20  da002_10_     14707 non-null  float64\n",
      " 21  da002_11_     14707 non-null  float64\n",
      " 22  da002_12_     14707 non-null  float64\n",
      " 23  da002_13_     14707 non-null  float64\n",
      " 24  da002_14_     14707 non-null  float64\n",
      " 25  da013         14707 non-null  float64\n",
      " 26  da019         14707 non-null  float64\n",
      " 27  da022         14707 non-null  float64\n",
      " 28  da025         14707 non-null  float64\n",
      " 29  da027         14707 non-null  float64\n",
      " 30  da029         14707 non-null  float64\n",
      " 31  da030         14707 non-null  float64\n",
      " 32  da031         14707 non-null  float64\n",
      " 33  da038_s1      14707 non-null  float64\n",
      " 34  da038_s2      14707 non-null  float64\n",
      " 35  da038_s3      14707 non-null  float64\n",
      " 36  da038_s4      14707 non-null  float64\n",
      " 37  da038_s5      14707 non-null  float64\n",
      " 38  da038_s6      14707 non-null  float64\n",
      " 39  da038_s7      14707 non-null  float64\n",
      " 40  da038_s8      14707 non-null  float64\n",
      " 41  da038_s9      14707 non-null  float64\n",
      " 42  da040         14707 non-null  float64\n",
      " 43  da050_1       14707 non-null  float64\n",
      " 44  da051         14707 non-null  float64\n",
      " 45  db001         14707 non-null  float64\n",
      " 46  db003         14707 non-null  float64\n",
      " 47  db005         14707 non-null  float64\n",
      " 48  db007         14707 non-null  float64\n",
      " 49  db009         14707 non-null  float64\n",
      " 50  db011         14707 non-null  float64\n",
      " 51  db012         14707 non-null  float64\n",
      " 52  db014         14707 non-null  float64\n",
      " 53  db016         14707 non-null  float64\n",
      " 54  db018         14707 non-null  float64\n",
      " 55  db020         14707 non-null  float64\n",
      " 56  db022         14707 non-null  float64\n",
      " 57  fa001         14707 non-null  float64\n",
      " 58  fc006         14707 non-null  float64\n",
      " 59  fc008         14707 non-null  float64\n",
      "dtypes: float64(57), int64(3)\n",
      "memory usage: 6.8 MB\n"
     ]
    }
   ],
   "source": [
    "# final check\n",
    "df.info()"
   ]
  },
  {
   "cell_type": "code",
   "execution_count": 13,
   "metadata": {},
   "outputs": [
    {
     "data": {
      "text/plain": [
       "UID             [94004126001, 94004126002, 94004111001, 940041...\n",
       "householdUID    [940041260, 940041110, 940041140, 940041190, 9...\n",
       "communityUID    [940041, 940043, 940042, 1940372, 1940373, 640...\n",
       "ba001                                                  [1.0, 2.0]\n",
       "ba009                                        [2.0, 3.0, 1.0, 4.0]\n",
       "ba011                              [1.0, 4.0, 5.0, 6.0, 2.0, 3.0]\n",
       "ba014                         [1.0, 6.0, 2.0, 7.0, 4.0, 3.0, 5.0]\n",
       "ba015                         [2.0, 3.0, 1.0, 0.0, 4.0, 5.0, 6.0]\n",
       "ba016                                             [2.0, 1.0, 3.0]\n",
       "ba017                         [5.0, 3.0, 1.0, 0.0, 4.0, 2.0, 6.0]\n",
       "da001                                   [1.0, 3.0, 4.0, 2.0, 5.0]\n",
       "da002_1_                                     [0.0, 3.0, 1.0, 2.0]\n",
       "da002_2_                                     [3.0, 0.0, 1.0, 2.0]\n",
       "da002_3_                                     [0.0, 2.0, 3.0, 1.0]\n",
       "da002_4_                                     [0.0, 1.0, 3.0, 2.0]\n",
       "da002_5_                                     [0.0, 3.0, 1.0, 2.0]\n",
       "da002_6_                                     [0.0, 3.0, 1.0, 2.0]\n",
       "da002_7_                                     [0.0, 3.0, 2.0, 1.0]\n",
       "da002_8_                                     [0.0, 1.0, 2.0, 3.0]\n",
       "da002_9_                                     [0.0, 3.0, 1.0, 2.0]\n",
       "da002_10_                                    [0.0, 3.0, 1.0, 2.0]\n",
       "da002_11_                                    [0.0, 2.0, 1.0, 3.0]\n",
       "da002_12_                                         [0.0, 2.0, 3.0]\n",
       "da002_13_                                    [0.0, 3.0, 2.0, 1.0]\n",
       "da002_14_                                    [0.0, 3.0, 1.0, 2.0]\n",
       "da013                                                  [1.0, 2.0]\n",
       "da019                                                  [2.0, 1.0]\n",
       "da022                                                  [2.0, 1.0]\n",
       "da025                                                  [2.0, 1.0]\n",
       "da027                                   [1.0, 2.0, 3.0, 4.0, 5.0]\n",
       "da029                                   [5.0, 3.0, 1.0, 4.0, 2.0]\n",
       "da030           [6.0, 7.0, 5.0, 8.0, 6.5, 4.0, 4.5, 10.0, 5.5,...\n",
       "da031           [30.0, 60.0, 80.0, 90.0, 0.0, 40.0, 4.0, 10.0,...\n",
       "da038_s1                                               [1.0, 0.0]\n",
       "da038_s2                                               [0.0, 2.0]\n",
       "da038_s3                                               [3.0, 0.0]\n",
       "da038_s4                                               [0.0, 4.0]\n",
       "da038_s5                                               [0.0, 5.0]\n",
       "da038_s6                                               [0.0, 6.0]\n",
       "da038_s7                                               [0.0, 7.0]\n",
       "da038_s8                                               [0.0, 8.0]\n",
       "da038_s9                                               [0.0, 9.0]\n",
       "da040                                                  [1.0, 2.0]\n",
       "da050_1         [6.0, 0.0, 20.0, 30.0, 15.0, 3.0, 5.0, 14.0, 1...\n",
       "da051                                             [1.0, 3.0, 2.0]\n",
       "db001                                        [1.0, 2.0, 3.0, 4.0]\n",
       "db003                                        [1.0, 2.0, 3.0, 4.0]\n",
       "db005                                        [1.0, 2.0, 3.0, 4.0]\n",
       "db007                                        [1.0, 2.0, 3.0, 4.0]\n",
       "db009                                        [1.0, 2.0, 3.0, 4.0]\n",
       "db011                                        [1.0, 2.0, 3.0, 4.0]\n",
       "db012                                        [1.0, 2.0, 3.0, 4.0]\n",
       "db014                                        [1.0, 2.0, 4.0, 3.0]\n",
       "db016                                        [1.0, 3.0, 4.0, 2.0]\n",
       "db018                                        [1.0, 2.0, 4.0, 3.0]\n",
       "db020                                        [1.0, 2.0, 3.0, 4.0]\n",
       "db022                                        [1.0, 4.0, 2.0, 3.0]\n",
       "fa001                                                  [1.0, 2.0]\n",
       "fc006                                                  [2.0, 1.0]\n",
       "fc008                                                  [2.0, 1.0]\n",
       "dtype: object"
      ]
     },
     "execution_count": 13,
     "metadata": {},
     "output_type": "execute_result"
    }
   ],
   "source": [
    "df.apply(lambda x: x.unique())"
   ]
  },
  {
   "cell_type": "markdown",
   "metadata": {},
   "source": [
    "Now we have transfromed nearly all of them data into numeric. Each of them could be classified to 3 groups:\n",
    "* Binary with 0 and 1\n",
    "* Ordianl Encode with more than 2 possible numbers but less than 7.\n",
    "* Community UID, which we will apply one hot encode in the pipeline.\n",
    "* *Real* numeric data: da030, da031,da050_1\n",
    "* Identity columns as Person id, family id and community id. We will drop the first two but keep the last one, because we believe there might soma pattern exists for predicting our target\n",
    "  \n",
    "For those real numeric columns, we will scale them later."
   ]
  },
  {
   "cell_type": "code",
   "execution_count": 14,
   "metadata": {},
   "outputs": [],
   "source": [
    "df = df.drop(['UID','householdUID'], axis=1)"
   ]
  },
  {
   "cell_type": "markdown",
   "metadata": {},
   "source": [
    "## 2. Train and Test set split\n"
   ]
  },
  {
   "cell_type": "code",
   "execution_count": 15,
   "metadata": {},
   "outputs": [],
   "source": [
    "# import a custom function\n",
    "import numpy as np\n",
    "import matplotlib.pyplot as plt\n",
    "from sklearn.model_selection import train_test_split\n",
    "from sklearn.model_selection import cross_val_score\n",
    "from sklearn.model_selection import cross_validate\n",
    "import altair as alt\n",
    "import warnings\n",
    "warnings.filterwarnings('ignore')\n",
    "import os\n",
    "import sys\n",
    "sys.path.append(os.path.join(os.path.abspath(\".\"), \"code\"))\n",
    "from code.plotting_functions import *\n",
    "from code.utils import *"
   ]
  },
  {
   "cell_type": "code",
   "execution_count": 16,
   "metadata": {},
   "outputs": [],
   "source": [
    "to_be_scalar = ['da030','da031','da050_1']\n",
    "target_variable = 'da013'\n",
    "# Split the dataset into 80% train and 20% test \n",
    "# y = df[target_variable].apply(lambda x:1 if x<=3 else 0)\n",
    "y = df[target_variable]\n",
    "X = df.drop(columns=target_variable)\n",
    "X_train, X_test, y_train, y_test = train_test_split(X, y, \n",
    "                                                    test_size=0.2,\n",
    "                                                    random_state=711)"
   ]
  },
  {
   "cell_type": "code",
   "execution_count": 17,
   "metadata": {},
   "outputs": [
    {
     "data": {
      "text/html": [
       "<div>\n",
       "<style scoped>\n",
       "    .dataframe tbody tr th:only-of-type {\n",
       "        vertical-align: middle;\n",
       "    }\n",
       "\n",
       "    .dataframe tbody tr th {\n",
       "        vertical-align: top;\n",
       "    }\n",
       "\n",
       "    .dataframe thead th {\n",
       "        text-align: right;\n",
       "    }\n",
       "</style>\n",
       "<table border=\"1\" class=\"dataframe\">\n",
       "  <thead>\n",
       "    <tr style=\"text-align: right;\">\n",
       "      <th></th>\n",
       "      <th>communityUID</th>\n",
       "      <th>ba001</th>\n",
       "      <th>ba009</th>\n",
       "      <th>ba011</th>\n",
       "      <th>ba014</th>\n",
       "      <th>ba015</th>\n",
       "      <th>ba016</th>\n",
       "      <th>ba017</th>\n",
       "      <th>da001</th>\n",
       "      <th>da002_1_</th>\n",
       "      <th>...</th>\n",
       "      <th>db011</th>\n",
       "      <th>db012</th>\n",
       "      <th>db014</th>\n",
       "      <th>db016</th>\n",
       "      <th>db018</th>\n",
       "      <th>db020</th>\n",
       "      <th>db022</th>\n",
       "      <th>fa001</th>\n",
       "      <th>fc006</th>\n",
       "      <th>fc008</th>\n",
       "    </tr>\n",
       "  </thead>\n",
       "  <tbody>\n",
       "    <tr>\n",
       "      <th>16819</th>\n",
       "      <td>140312</td>\n",
       "      <td>2.0</td>\n",
       "      <td>1.0</td>\n",
       "      <td>1.0</td>\n",
       "      <td>6.0</td>\n",
       "      <td>4.0</td>\n",
       "      <td>1.0</td>\n",
       "      <td>4.0</td>\n",
       "      <td>3.0</td>\n",
       "      <td>0.0</td>\n",
       "      <td>...</td>\n",
       "      <td>1.0</td>\n",
       "      <td>1.0</td>\n",
       "      <td>1.0</td>\n",
       "      <td>1.0</td>\n",
       "      <td>1.0</td>\n",
       "      <td>1.0</td>\n",
       "      <td>1.0</td>\n",
       "      <td>1.0</td>\n",
       "      <td>2.0</td>\n",
       "      <td>2.0</td>\n",
       "    </tr>\n",
       "    <tr>\n",
       "      <th>17042</th>\n",
       "      <td>104463</td>\n",
       "      <td>1.0</td>\n",
       "      <td>1.0</td>\n",
       "      <td>5.0</td>\n",
       "      <td>1.0</td>\n",
       "      <td>5.0</td>\n",
       "      <td>1.0</td>\n",
       "      <td>2.0</td>\n",
       "      <td>4.0</td>\n",
       "      <td>0.0</td>\n",
       "      <td>...</td>\n",
       "      <td>1.0</td>\n",
       "      <td>1.0</td>\n",
       "      <td>1.0</td>\n",
       "      <td>1.0</td>\n",
       "      <td>1.0</td>\n",
       "      <td>1.0</td>\n",
       "      <td>3.0</td>\n",
       "      <td>1.0</td>\n",
       "      <td>2.0</td>\n",
       "      <td>2.0</td>\n",
       "    </tr>\n",
       "    <tr>\n",
       "      <th>6704</th>\n",
       "      <td>304762</td>\n",
       "      <td>1.0</td>\n",
       "      <td>1.0</td>\n",
       "      <td>1.0</td>\n",
       "      <td>1.0</td>\n",
       "      <td>4.0</td>\n",
       "      <td>2.0</td>\n",
       "      <td>4.0</td>\n",
       "      <td>3.0</td>\n",
       "      <td>0.0</td>\n",
       "      <td>...</td>\n",
       "      <td>1.0</td>\n",
       "      <td>1.0</td>\n",
       "      <td>1.0</td>\n",
       "      <td>1.0</td>\n",
       "      <td>1.0</td>\n",
       "      <td>1.0</td>\n",
       "      <td>1.0</td>\n",
       "      <td>2.0</td>\n",
       "      <td>2.0</td>\n",
       "      <td>2.0</td>\n",
       "    </tr>\n",
       "    <tr>\n",
       "      <th>15450</th>\n",
       "      <td>586591</td>\n",
       "      <td>2.0</td>\n",
       "      <td>2.0</td>\n",
       "      <td>1.0</td>\n",
       "      <td>1.0</td>\n",
       "      <td>5.0</td>\n",
       "      <td>2.0</td>\n",
       "      <td>2.0</td>\n",
       "      <td>3.0</td>\n",
       "      <td>0.0</td>\n",
       "      <td>...</td>\n",
       "      <td>1.0</td>\n",
       "      <td>1.0</td>\n",
       "      <td>1.0</td>\n",
       "      <td>1.0</td>\n",
       "      <td>1.0</td>\n",
       "      <td>1.0</td>\n",
       "      <td>1.0</td>\n",
       "      <td>1.0</td>\n",
       "      <td>2.0</td>\n",
       "      <td>2.0</td>\n",
       "    </tr>\n",
       "    <tr>\n",
       "      <th>9605</th>\n",
       "      <td>3240783</td>\n",
       "      <td>2.0</td>\n",
       "      <td>2.0</td>\n",
       "      <td>1.0</td>\n",
       "      <td>7.0</td>\n",
       "      <td>0.0</td>\n",
       "      <td>1.0</td>\n",
       "      <td>3.0</td>\n",
       "      <td>1.0</td>\n",
       "      <td>0.0</td>\n",
       "      <td>...</td>\n",
       "      <td>1.0</td>\n",
       "      <td>1.0</td>\n",
       "      <td>1.0</td>\n",
       "      <td>1.0</td>\n",
       "      <td>1.0</td>\n",
       "      <td>1.0</td>\n",
       "      <td>1.0</td>\n",
       "      <td>2.0</td>\n",
       "      <td>2.0</td>\n",
       "      <td>2.0</td>\n",
       "    </tr>\n",
       "    <tr>\n",
       "      <th>...</th>\n",
       "      <td>...</td>\n",
       "      <td>...</td>\n",
       "      <td>...</td>\n",
       "      <td>...</td>\n",
       "      <td>...</td>\n",
       "      <td>...</td>\n",
       "      <td>...</td>\n",
       "      <td>...</td>\n",
       "      <td>...</td>\n",
       "      <td>...</td>\n",
       "      <td>...</td>\n",
       "      <td>...</td>\n",
       "      <td>...</td>\n",
       "      <td>...</td>\n",
       "      <td>...</td>\n",
       "      <td>...</td>\n",
       "      <td>...</td>\n",
       "      <td>...</td>\n",
       "      <td>...</td>\n",
       "      <td>...</td>\n",
       "      <td>...</td>\n",
       "    </tr>\n",
       "    <tr>\n",
       "      <th>10879</th>\n",
       "      <td>3263462</td>\n",
       "      <td>1.0</td>\n",
       "      <td>1.0</td>\n",
       "      <td>5.0</td>\n",
       "      <td>4.0</td>\n",
       "      <td>4.0</td>\n",
       "      <td>1.0</td>\n",
       "      <td>4.0</td>\n",
       "      <td>3.0</td>\n",
       "      <td>2.0</td>\n",
       "      <td>...</td>\n",
       "      <td>1.0</td>\n",
       "      <td>1.0</td>\n",
       "      <td>1.0</td>\n",
       "      <td>1.0</td>\n",
       "      <td>1.0</td>\n",
       "      <td>1.0</td>\n",
       "      <td>1.0</td>\n",
       "      <td>2.0</td>\n",
       "      <td>2.0</td>\n",
       "      <td>2.0</td>\n",
       "    </tr>\n",
       "    <tr>\n",
       "      <th>19189</th>\n",
       "      <td>1940371</td>\n",
       "      <td>1.0</td>\n",
       "      <td>1.0</td>\n",
       "      <td>1.0</td>\n",
       "      <td>6.0</td>\n",
       "      <td>2.0</td>\n",
       "      <td>2.0</td>\n",
       "      <td>1.0</td>\n",
       "      <td>3.0</td>\n",
       "      <td>0.0</td>\n",
       "      <td>...</td>\n",
       "      <td>1.0</td>\n",
       "      <td>1.0</td>\n",
       "      <td>1.0</td>\n",
       "      <td>1.0</td>\n",
       "      <td>1.0</td>\n",
       "      <td>1.0</td>\n",
       "      <td>1.0</td>\n",
       "      <td>2.0</td>\n",
       "      <td>2.0</td>\n",
       "      <td>2.0</td>\n",
       "    </tr>\n",
       "    <tr>\n",
       "      <th>17226</th>\n",
       "      <td>182061</td>\n",
       "      <td>1.0</td>\n",
       "      <td>1.0</td>\n",
       "      <td>1.0</td>\n",
       "      <td>2.0</td>\n",
       "      <td>4.0</td>\n",
       "      <td>1.0</td>\n",
       "      <td>4.0</td>\n",
       "      <td>3.0</td>\n",
       "      <td>2.0</td>\n",
       "      <td>...</td>\n",
       "      <td>1.0</td>\n",
       "      <td>1.0</td>\n",
       "      <td>1.0</td>\n",
       "      <td>1.0</td>\n",
       "      <td>1.0</td>\n",
       "      <td>1.0</td>\n",
       "      <td>1.0</td>\n",
       "      <td>1.0</td>\n",
       "      <td>2.0</td>\n",
       "      <td>2.0</td>\n",
       "    </tr>\n",
       "    <tr>\n",
       "      <th>3110</th>\n",
       "      <td>2111763</td>\n",
       "      <td>1.0</td>\n",
       "      <td>1.0</td>\n",
       "      <td>1.0</td>\n",
       "      <td>7.0</td>\n",
       "      <td>0.0</td>\n",
       "      <td>2.0</td>\n",
       "      <td>4.0</td>\n",
       "      <td>4.0</td>\n",
       "      <td>0.0</td>\n",
       "      <td>...</td>\n",
       "      <td>2.0</td>\n",
       "      <td>3.0</td>\n",
       "      <td>4.0</td>\n",
       "      <td>2.0</td>\n",
       "      <td>1.0</td>\n",
       "      <td>1.0</td>\n",
       "      <td>1.0</td>\n",
       "      <td>2.0</td>\n",
       "      <td>2.0</td>\n",
       "      <td>2.0</td>\n",
       "    </tr>\n",
       "    <tr>\n",
       "      <th>14231</th>\n",
       "      <td>2427021</td>\n",
       "      <td>2.0</td>\n",
       "      <td>1.0</td>\n",
       "      <td>2.0</td>\n",
       "      <td>6.0</td>\n",
       "      <td>6.0</td>\n",
       "      <td>2.0</td>\n",
       "      <td>6.0</td>\n",
       "      <td>4.0</td>\n",
       "      <td>0.0</td>\n",
       "      <td>...</td>\n",
       "      <td>2.0</td>\n",
       "      <td>3.0</td>\n",
       "      <td>2.0</td>\n",
       "      <td>1.0</td>\n",
       "      <td>1.0</td>\n",
       "      <td>1.0</td>\n",
       "      <td>1.0</td>\n",
       "      <td>1.0</td>\n",
       "      <td>2.0</td>\n",
       "      <td>2.0</td>\n",
       "    </tr>\n",
       "  </tbody>\n",
       "</table>\n",
       "<p>11765 rows × 57 columns</p>\n",
       "</div>"
      ],
      "text/plain": [
       "       communityUID  ba001  ba009  ba011  ba014  ba015  ba016  ba017  da001   \n",
       "16819        140312    2.0    1.0    1.0    6.0    4.0    1.0    4.0    3.0  \\\n",
       "17042        104463    1.0    1.0    5.0    1.0    5.0    1.0    2.0    4.0   \n",
       "6704         304762    1.0    1.0    1.0    1.0    4.0    2.0    4.0    3.0   \n",
       "15450        586591    2.0    2.0    1.0    1.0    5.0    2.0    2.0    3.0   \n",
       "9605        3240783    2.0    2.0    1.0    7.0    0.0    1.0    3.0    1.0   \n",
       "...             ...    ...    ...    ...    ...    ...    ...    ...    ...   \n",
       "10879       3263462    1.0    1.0    5.0    4.0    4.0    1.0    4.0    3.0   \n",
       "19189       1940371    1.0    1.0    1.0    6.0    2.0    2.0    1.0    3.0   \n",
       "17226        182061    1.0    1.0    1.0    2.0    4.0    1.0    4.0    3.0   \n",
       "3110        2111763    1.0    1.0    1.0    7.0    0.0    2.0    4.0    4.0   \n",
       "14231       2427021    2.0    1.0    2.0    6.0    6.0    2.0    6.0    4.0   \n",
       "\n",
       "       da002_1_  ...  db011  db012  db014  db016  db018  db020  db022  fa001   \n",
       "16819       0.0  ...    1.0    1.0    1.0    1.0    1.0    1.0    1.0    1.0  \\\n",
       "17042       0.0  ...    1.0    1.0    1.0    1.0    1.0    1.0    3.0    1.0   \n",
       "6704        0.0  ...    1.0    1.0    1.0    1.0    1.0    1.0    1.0    2.0   \n",
       "15450       0.0  ...    1.0    1.0    1.0    1.0    1.0    1.0    1.0    1.0   \n",
       "9605        0.0  ...    1.0    1.0    1.0    1.0    1.0    1.0    1.0    2.0   \n",
       "...         ...  ...    ...    ...    ...    ...    ...    ...    ...    ...   \n",
       "10879       2.0  ...    1.0    1.0    1.0    1.0    1.0    1.0    1.0    2.0   \n",
       "19189       0.0  ...    1.0    1.0    1.0    1.0    1.0    1.0    1.0    2.0   \n",
       "17226       2.0  ...    1.0    1.0    1.0    1.0    1.0    1.0    1.0    1.0   \n",
       "3110        0.0  ...    2.0    3.0    4.0    2.0    1.0    1.0    1.0    2.0   \n",
       "14231       0.0  ...    2.0    3.0    2.0    1.0    1.0    1.0    1.0    1.0   \n",
       "\n",
       "       fc006  fc008  \n",
       "16819    2.0    2.0  \n",
       "17042    2.0    2.0  \n",
       "6704     2.0    2.0  \n",
       "15450    2.0    2.0  \n",
       "9605     2.0    2.0  \n",
       "...      ...    ...  \n",
       "10879    2.0    2.0  \n",
       "19189    2.0    2.0  \n",
       "17226    2.0    2.0  \n",
       "3110     2.0    2.0  \n",
       "14231    2.0    2.0  \n",
       "\n",
       "[11765 rows x 57 columns]"
      ]
     },
     "metadata": {},
     "output_type": "display_data"
    },
    {
     "data": {
      "text/plain": [
       "9119     2.0\n",
       "4948     1.0\n",
       "7001     1.0\n",
       "6532     1.0\n",
       "7823     2.0\n",
       "        ... \n",
       "426      1.0\n",
       "5287     2.0\n",
       "16059    2.0\n",
       "11667    1.0\n",
       "7174     2.0\n",
       "Name: da013, Length: 2942, dtype: float64"
      ]
     },
     "metadata": {},
     "output_type": "display_data"
    }
   ],
   "source": [
    "display(X_train)\n",
    "display(y_test)"
   ]
  },
  {
   "cell_type": "markdown",
   "metadata": {},
   "source": [
    "## 3. model"
   ]
  },
  {
   "cell_type": "markdown",
   "metadata": {},
   "source": [
    "### 3.1 DummyClassifier"
   ]
  },
  {
   "cell_type": "code",
   "execution_count": 18,
   "metadata": {},
   "outputs": [
    {
     "name": "stdout",
     "output_type": "stream",
     "text": [
      "validation score:\n"
     ]
    },
    {
     "data": {
      "text/html": [
       "<div>\n",
       "<style scoped>\n",
       "    .dataframe tbody tr th:only-of-type {\n",
       "        vertical-align: middle;\n",
       "    }\n",
       "\n",
       "    .dataframe tbody tr th {\n",
       "        vertical-align: top;\n",
       "    }\n",
       "\n",
       "    .dataframe thead th {\n",
       "        text-align: right;\n",
       "    }\n",
       "</style>\n",
       "<table border=\"1\" class=\"dataframe\">\n",
       "  <thead>\n",
       "    <tr style=\"text-align: right;\">\n",
       "      <th></th>\n",
       "      <th>fit_time</th>\n",
       "      <th>score_time</th>\n",
       "      <th>test_score</th>\n",
       "      <th>train_score</th>\n",
       "    </tr>\n",
       "  </thead>\n",
       "  <tbody>\n",
       "    <tr>\n",
       "      <th>0</th>\n",
       "      <td>0.021997</td>\n",
       "      <td>0.004728</td>\n",
       "      <td>0.526763</td>\n",
       "      <td>0.526634</td>\n",
       "    </tr>\n",
       "    <tr>\n",
       "      <th>1</th>\n",
       "      <td>0.020744</td>\n",
       "      <td>0.004569</td>\n",
       "      <td>0.526763</td>\n",
       "      <td>0.526634</td>\n",
       "    </tr>\n",
       "    <tr>\n",
       "      <th>2</th>\n",
       "      <td>0.019662</td>\n",
       "      <td>0.005010</td>\n",
       "      <td>0.526763</td>\n",
       "      <td>0.526634</td>\n",
       "    </tr>\n",
       "    <tr>\n",
       "      <th>3</th>\n",
       "      <td>0.020199</td>\n",
       "      <td>0.005062</td>\n",
       "      <td>0.526763</td>\n",
       "      <td>0.526634</td>\n",
       "    </tr>\n",
       "    <tr>\n",
       "      <th>4</th>\n",
       "      <td>0.019263</td>\n",
       "      <td>0.004065</td>\n",
       "      <td>0.526763</td>\n",
       "      <td>0.526634</td>\n",
       "    </tr>\n",
       "    <tr>\n",
       "      <th>5</th>\n",
       "      <td>0.018874</td>\n",
       "      <td>0.004511</td>\n",
       "      <td>0.527211</td>\n",
       "      <td>0.526584</td>\n",
       "    </tr>\n",
       "    <tr>\n",
       "      <th>6</th>\n",
       "      <td>0.017591</td>\n",
       "      <td>0.004208</td>\n",
       "      <td>0.526361</td>\n",
       "      <td>0.526679</td>\n",
       "    </tr>\n",
       "    <tr>\n",
       "      <th>7</th>\n",
       "      <td>0.017449</td>\n",
       "      <td>0.004221</td>\n",
       "      <td>0.526361</td>\n",
       "      <td>0.526679</td>\n",
       "    </tr>\n",
       "    <tr>\n",
       "      <th>8</th>\n",
       "      <td>0.018487</td>\n",
       "      <td>0.005245</td>\n",
       "      <td>0.526361</td>\n",
       "      <td>0.526679</td>\n",
       "    </tr>\n",
       "    <tr>\n",
       "      <th>9</th>\n",
       "      <td>0.017713</td>\n",
       "      <td>0.004569</td>\n",
       "      <td>0.526361</td>\n",
       "      <td>0.526679</td>\n",
       "    </tr>\n",
       "  </tbody>\n",
       "</table>\n",
       "</div>"
      ],
      "text/plain": [
       "   fit_time  score_time  test_score  train_score\n",
       "0  0.021997    0.004728    0.526763     0.526634\n",
       "1  0.020744    0.004569    0.526763     0.526634\n",
       "2  0.019662    0.005010    0.526763     0.526634\n",
       "3  0.020199    0.005062    0.526763     0.526634\n",
       "4  0.019263    0.004065    0.526763     0.526634\n",
       "5  0.018874    0.004511    0.527211     0.526584\n",
       "6  0.017591    0.004208    0.526361     0.526679\n",
       "7  0.017449    0.004221    0.526361     0.526679\n",
       "8  0.018487    0.005245    0.526361     0.526679\n",
       "9  0.017713    0.004569    0.526361     0.526679"
      ]
     },
     "metadata": {},
     "output_type": "display_data"
    },
    {
     "name": "stdout",
     "output_type": "stream",
     "text": [
      "test score:\n"
     ]
    },
    {
     "data": {
      "text/plain": [
       "0.5343303874915024"
      ]
     },
     "execution_count": 18,
     "metadata": {},
     "output_type": "execute_result"
    }
   ],
   "source": [
    "from sklearn.dummy import DummyClassifier\n",
    "from sklearn.preprocessing import MinMaxScaler, StandardScaler\n",
    "from sklearn.pipeline import make_pipeline\n",
    "from sklearn.preprocessing import OneHotEncoder\n",
    "from sklearn.compose import ColumnTransformer\n",
    "\n",
    "numeric_transformer = make_pipeline(StandardScaler())\n",
    "categorical_transformer = make_pipeline(OneHotEncoder(handle_unknown=\"ignore\"))\n",
    "\n",
    "col_transformer = ColumnTransformer(\n",
    "    transformers=[\n",
    "        (\"numeric\", numeric_transformer, to_be_scalar),\n",
    "        (\"categorical\", categorical_transformer, ['communityUID'])\n",
    "    ],\n",
    "    remainder='passthrough'\n",
    ")\n",
    "\n",
    "dmc_pipe = make_pipeline(\n",
    "    col_transformer,DummyClassifier(strategy='most_frequent')\n",
    ")\n",
    "dmc_cv = cross_validate(dmc_pipe, X_train, y_train,cv=10,return_train_score=True)\n",
    "print(\"validation score:\")\n",
    "display(pd.DataFrame(dmc_cv))\n",
    "dmc_pipe.fit(X_train,y_train)\n",
    "print(\"test score:\")\n",
    "dmc_pipe.score(X_test,y_test)"
   ]
  },
  {
   "cell_type": "markdown",
   "metadata": {},
   "source": [
    "This model has nearly 53% hit rate -> better than flip a coin"
   ]
  },
  {
   "cell_type": "markdown",
   "metadata": {},
   "source": [
    "### 3.2. KNN"
   ]
  },
  {
   "cell_type": "code",
   "execution_count": 19,
   "metadata": {},
   "outputs": [
    {
     "name": "stdout",
     "output_type": "stream",
     "text": [
      "Fitting 3 folds for each of 5 candidates, totalling 15 fits\n"
     ]
    },
    {
     "name": "stdout",
     "output_type": "stream",
     "text": [
      "[CV] END knn__metric=manhattan, knn__n_neighbors=5, knn__weights=uniform; total time=   3.0s\n",
      "[CV] END knn__metric=manhattan, knn__n_neighbors=5, knn__weights=uniform; total time=   3.0s\n",
      "[CV] END knn__metric=manhattan, knn__n_neighbors=5, knn__weights=uniform; total time=   3.0s\n",
      "[CV] END knn__metric=manhattan, knn__n_neighbors=9, knn__weights=distance; total time=   3.0s\n",
      "[CV] END knn__metric=manhattan, knn__n_neighbors=9, knn__weights=distance; total time=   3.0s\n",
      "[CV] END knn__metric=manhattan, knn__n_neighbors=9, knn__weights=distance; total time=   2.8s\n",
      "[CV] END knn__metric=manhattan, knn__n_neighbors=7, knn__weights=distance; total time=   2.9s\n",
      "[CV] END knn__metric=manhattan, knn__n_neighbors=7, knn__weights=distance; total time=   2.9s\n",
      "[CV] END knn__metric=manhattan, knn__n_neighbors=7, knn__weights=distance; total time=   2.9s\n",
      "[CV] END knn__metric=euclidean, knn__n_neighbors=9, knn__weights=uniform; total time=  29.1s\n",
      "[CV] END knn__metric=euclidean, knn__n_neighbors=9, knn__weights=uniform; total time=  29.2s\n",
      "[CV] END knn__metric=euclidean, knn__n_neighbors=9, knn__weights=uniform; total time=  29.2s\n",
      "[CV] END knn__metric=euclidean, knn__n_neighbors=7, knn__weights=distance; total time=  28.4s\n",
      "[CV] END knn__metric=euclidean, knn__n_neighbors=7, knn__weights=distance; total time=  27.9s\n",
      "[CV] END knn__metric=euclidean, knn__n_neighbors=7, knn__weights=distance; total time=  27.9s\n"
     ]
    }
   ],
   "source": [
    "from sklearn.neighbors import KNeighborsClassifier\n",
    "from sklearn.model_selection import RandomizedSearchCV, GridSearchCV\n",
    "\n",
    "knn_pipe = Pipeline(\n",
    "   steps=[(\"col_tran\",col_transformer),(\"knn\",KNeighborsClassifier())]\n",
    ")\n",
    "\n",
    "knn_para = {\n",
    "    'knn__n_neighbors': [3, 5, 7, 9],\n",
    "    'knn__weights': ['uniform', 'distance'],\n",
    "    'knn__metric': ['euclidean', 'manhattan']\n",
    "}\n",
    "\n",
    "knn_opt = RandomizedSearchCV(knn_pipe, knn_para, cv=3, verbose=2, n_jobs=-1, n_iter=5)\n",
    "knn_opt.fit(X_train, y_train);"
   ]
  },
  {
   "cell_type": "code",
   "execution_count": 20,
   "metadata": {},
   "outputs": [],
   "source": [
    "knn_cv = cross_validate(knn_opt.best_estimator_, X_train, y_train,cv=10,return_train_score=True)"
   ]
  },
  {
   "cell_type": "code",
   "execution_count": 21,
   "metadata": {},
   "outputs": [
    {
     "data": {
      "text/html": [
       "<div>\n",
       "<style scoped>\n",
       "    .dataframe tbody tr th:only-of-type {\n",
       "        vertical-align: middle;\n",
       "    }\n",
       "\n",
       "    .dataframe tbody tr th {\n",
       "        vertical-align: top;\n",
       "    }\n",
       "\n",
       "    .dataframe thead th {\n",
       "        text-align: right;\n",
       "    }\n",
       "</style>\n",
       "<table border=\"1\" class=\"dataframe\">\n",
       "  <thead>\n",
       "    <tr style=\"text-align: right;\">\n",
       "      <th></th>\n",
       "      <th>fit_time</th>\n",
       "      <th>score_time</th>\n",
       "      <th>test_score</th>\n",
       "      <th>train_score</th>\n",
       "    </tr>\n",
       "  </thead>\n",
       "  <tbody>\n",
       "    <tr>\n",
       "      <th>0</th>\n",
       "      <td>0.021585</td>\n",
       "      <td>0.453521</td>\n",
       "      <td>0.584537</td>\n",
       "      <td>1.0</td>\n",
       "    </tr>\n",
       "    <tr>\n",
       "      <th>1</th>\n",
       "      <td>0.023355</td>\n",
       "      <td>0.242667</td>\n",
       "      <td>0.575191</td>\n",
       "      <td>1.0</td>\n",
       "    </tr>\n",
       "    <tr>\n",
       "      <th>2</th>\n",
       "      <td>0.022915</td>\n",
       "      <td>0.252184</td>\n",
       "      <td>0.587086</td>\n",
       "      <td>1.0</td>\n",
       "    </tr>\n",
       "    <tr>\n",
       "      <th>3</th>\n",
       "      <td>0.019690</td>\n",
       "      <td>0.183339</td>\n",
       "      <td>0.589635</td>\n",
       "      <td>1.0</td>\n",
       "    </tr>\n",
       "    <tr>\n",
       "      <th>4</th>\n",
       "      <td>0.019261</td>\n",
       "      <td>0.178247</td>\n",
       "      <td>0.587935</td>\n",
       "      <td>1.0</td>\n",
       "    </tr>\n",
       "    <tr>\n",
       "      <th>5</th>\n",
       "      <td>0.018789</td>\n",
       "      <td>0.183675</td>\n",
       "      <td>0.559524</td>\n",
       "      <td>1.0</td>\n",
       "    </tr>\n",
       "    <tr>\n",
       "      <th>6</th>\n",
       "      <td>0.018828</td>\n",
       "      <td>0.191091</td>\n",
       "      <td>0.586735</td>\n",
       "      <td>1.0</td>\n",
       "    </tr>\n",
       "    <tr>\n",
       "      <th>7</th>\n",
       "      <td>0.018710</td>\n",
       "      <td>0.175024</td>\n",
       "      <td>0.568027</td>\n",
       "      <td>1.0</td>\n",
       "    </tr>\n",
       "    <tr>\n",
       "      <th>8</th>\n",
       "      <td>0.019848</td>\n",
       "      <td>0.185670</td>\n",
       "      <td>0.579932</td>\n",
       "      <td>1.0</td>\n",
       "    </tr>\n",
       "    <tr>\n",
       "      <th>9</th>\n",
       "      <td>0.018963</td>\n",
       "      <td>0.178479</td>\n",
       "      <td>0.577381</td>\n",
       "      <td>1.0</td>\n",
       "    </tr>\n",
       "  </tbody>\n",
       "</table>\n",
       "</div>"
      ],
      "text/plain": [
       "   fit_time  score_time  test_score  train_score\n",
       "0  0.021585    0.453521    0.584537          1.0\n",
       "1  0.023355    0.242667    0.575191          1.0\n",
       "2  0.022915    0.252184    0.587086          1.0\n",
       "3  0.019690    0.183339    0.589635          1.0\n",
       "4  0.019261    0.178247    0.587935          1.0\n",
       "5  0.018789    0.183675    0.559524          1.0\n",
       "6  0.018828    0.191091    0.586735          1.0\n",
       "7  0.018710    0.175024    0.568027          1.0\n",
       "8  0.019848    0.185670    0.579932          1.0\n",
       "9  0.018963    0.178479    0.577381          1.0"
      ]
     },
     "execution_count": 21,
     "metadata": {},
     "output_type": "execute_result"
    }
   ],
   "source": [
    "pd.DataFrame(knn_cv)"
   ]
  },
  {
   "cell_type": "code",
   "execution_count": 22,
   "metadata": {},
   "outputs": [
    {
     "data": {
      "text/plain": [
       "0.5720598232494901"
      ]
     },
     "execution_count": 22,
     "metadata": {},
     "output_type": "execute_result"
    }
   ],
   "source": [
    "knn_opt.best_estimator_.score(X_test,y_test)"
   ]
  },
  {
   "cell_type": "code",
   "execution_count": 23,
   "metadata": {},
   "outputs": [
    {
     "data": {
      "text/plain": [
       "{'knn__weights': 'distance', 'knn__n_neighbors': 9, 'knn__metric': 'manhattan'}"
      ]
     },
     "execution_count": 23,
     "metadata": {},
     "output_type": "execute_result"
    }
   ],
   "source": [
    "knn_opt.best_params_"
   ]
  },
  {
   "cell_type": "markdown",
   "metadata": {},
   "source": [
    "The result is 1000% overfitting, this model is not working"
   ]
  },
  {
   "cell_type": "markdown",
   "metadata": {},
   "source": [
    "### 3.3. DecisionTree"
   ]
  },
  {
   "cell_type": "code",
   "execution_count": 24,
   "metadata": {},
   "outputs": [
    {
     "name": "stdout",
     "output_type": "stream",
     "text": [
      "Fitting 3 folds for each of 5 candidates, totalling 15 fits\n",
      "[CV] END .................................tree__max_depth=15; total time=   0.1s\n",
      "[CV] END .................................tree__max_depth=15; total time=   0.1s\n",
      "[CV] END .................................tree__max_depth=15; total time=   0.1s\n",
      "[CV] END .................................tree__max_depth=30; total time=   0.2s\n",
      "[CV] END .................................tree__max_depth=30; total time=   0.2s\n",
      "[CV] END .................................tree__max_depth=30; total time=   0.2s\n",
      "[CV] END ..................................tree__max_depth=5; total time=   0.1s\n",
      "[CV] END .................................tree__max_depth=25; total time=   0.2s\n",
      "[CV] END ..................................tree__max_depth=5; total time=   0.1s\n",
      "[CV] END .................................tree__max_depth=25; total time=   0.2s\n",
      "[CV] END .................................tree__max_depth=20; total time=   0.2s\n",
      "[CV] END ..................................tree__max_depth=5; total time=   0.0s\n",
      "[CV] END .................................tree__max_depth=25; total time=   0.2s\n",
      "[CV] END .................................tree__max_depth=20; total time=   0.2s\n",
      "[CV] END .................................tree__max_depth=20; total time=   0.2s\n"
     ]
    },
    {
     "data": {
      "text/html": [
       "<style>#sk-container-id-1 {color: black;background-color: white;}#sk-container-id-1 pre{padding: 0;}#sk-container-id-1 div.sk-toggleable {background-color: white;}#sk-container-id-1 label.sk-toggleable__label {cursor: pointer;display: block;width: 100%;margin-bottom: 0;padding: 0.3em;box-sizing: border-box;text-align: center;}#sk-container-id-1 label.sk-toggleable__label-arrow:before {content: \"▸\";float: left;margin-right: 0.25em;color: #696969;}#sk-container-id-1 label.sk-toggleable__label-arrow:hover:before {color: black;}#sk-container-id-1 div.sk-estimator:hover label.sk-toggleable__label-arrow:before {color: black;}#sk-container-id-1 div.sk-toggleable__content {max-height: 0;max-width: 0;overflow: hidden;text-align: left;background-color: #f0f8ff;}#sk-container-id-1 div.sk-toggleable__content pre {margin: 0.2em;color: black;border-radius: 0.25em;background-color: #f0f8ff;}#sk-container-id-1 input.sk-toggleable__control:checked~div.sk-toggleable__content {max-height: 200px;max-width: 100%;overflow: auto;}#sk-container-id-1 input.sk-toggleable__control:checked~label.sk-toggleable__label-arrow:before {content: \"▾\";}#sk-container-id-1 div.sk-estimator input.sk-toggleable__control:checked~label.sk-toggleable__label {background-color: #d4ebff;}#sk-container-id-1 div.sk-label input.sk-toggleable__control:checked~label.sk-toggleable__label {background-color: #d4ebff;}#sk-container-id-1 input.sk-hidden--visually {border: 0;clip: rect(1px 1px 1px 1px);clip: rect(1px, 1px, 1px, 1px);height: 1px;margin: -1px;overflow: hidden;padding: 0;position: absolute;width: 1px;}#sk-container-id-1 div.sk-estimator {font-family: monospace;background-color: #f0f8ff;border: 1px dotted black;border-radius: 0.25em;box-sizing: border-box;margin-bottom: 0.5em;}#sk-container-id-1 div.sk-estimator:hover {background-color: #d4ebff;}#sk-container-id-1 div.sk-parallel-item::after {content: \"\";width: 100%;border-bottom: 1px solid gray;flex-grow: 1;}#sk-container-id-1 div.sk-label:hover label.sk-toggleable__label {background-color: #d4ebff;}#sk-container-id-1 div.sk-serial::before {content: \"\";position: absolute;border-left: 1px solid gray;box-sizing: border-box;top: 0;bottom: 0;left: 50%;z-index: 0;}#sk-container-id-1 div.sk-serial {display: flex;flex-direction: column;align-items: center;background-color: white;padding-right: 0.2em;padding-left: 0.2em;position: relative;}#sk-container-id-1 div.sk-item {position: relative;z-index: 1;}#sk-container-id-1 div.sk-parallel {display: flex;align-items: stretch;justify-content: center;background-color: white;position: relative;}#sk-container-id-1 div.sk-item::before, #sk-container-id-1 div.sk-parallel-item::before {content: \"\";position: absolute;border-left: 1px solid gray;box-sizing: border-box;top: 0;bottom: 0;left: 50%;z-index: -1;}#sk-container-id-1 div.sk-parallel-item {display: flex;flex-direction: column;z-index: 1;position: relative;background-color: white;}#sk-container-id-1 div.sk-parallel-item:first-child::after {align-self: flex-end;width: 50%;}#sk-container-id-1 div.sk-parallel-item:last-child::after {align-self: flex-start;width: 50%;}#sk-container-id-1 div.sk-parallel-item:only-child::after {width: 0;}#sk-container-id-1 div.sk-dashed-wrapped {border: 1px dashed gray;margin: 0 0.4em 0.5em 0.4em;box-sizing: border-box;padding-bottom: 0.4em;background-color: white;}#sk-container-id-1 div.sk-label label {font-family: monospace;font-weight: bold;display: inline-block;line-height: 1.2em;}#sk-container-id-1 div.sk-label-container {text-align: center;}#sk-container-id-1 div.sk-container {/* jupyter's `normalize.less` sets `[hidden] { display: none; }` but bootstrap.min.css set `[hidden] { display: none !important; }` so we also need the `!important` here to be able to override the default hidden behavior on the sphinx rendered scikit-learn.org. See: https://github.com/scikit-learn/scikit-learn/issues/21755 */display: inline-block !important;position: relative;}#sk-container-id-1 div.sk-text-repr-fallback {display: none;}</style><div id=\"sk-container-id-1\" class=\"sk-top-container\"><div class=\"sk-text-repr-fallback\"><pre>RandomizedSearchCV(cv=3,\n",
       "                   estimator=Pipeline(steps=[(&#x27;col&#x27;,\n",
       "                                              ColumnTransformer(remainder=&#x27;passthrough&#x27;,\n",
       "                                                                transformers=[(&#x27;numeric&#x27;,\n",
       "                                                                               Pipeline(steps=[(&#x27;standardscaler&#x27;,\n",
       "                                                                                                StandardScaler())]),\n",
       "                                                                               [&#x27;da030&#x27;,\n",
       "                                                                                &#x27;da031&#x27;,\n",
       "                                                                                &#x27;da050_1&#x27;]),\n",
       "                                                                              (&#x27;categorical&#x27;,\n",
       "                                                                               Pipeline(steps=[(&#x27;onehotencoder&#x27;,\n",
       "                                                                                                OneHotEncoder(handle_unknown=&#x27;ignore&#x27;))]),\n",
       "                                                                               [&#x27;communityUID&#x27;])])),\n",
       "                                             (&#x27;tree&#x27;,\n",
       "                                              DecisionTreeClassifier())]),\n",
       "                   n_iter=5, n_jobs=-1,\n",
       "                   param_distributions={&#x27;tree__max_depth&#x27;: [None, 5, 10, 15, 20,\n",
       "                                                            25, 30]},\n",
       "                   verbose=2)</pre><b>In a Jupyter environment, please rerun this cell to show the HTML representation or trust the notebook. <br />On GitHub, the HTML representation is unable to render, please try loading this page with nbviewer.org.</b></div><div class=\"sk-container\" hidden><div class=\"sk-item sk-dashed-wrapped\"><div class=\"sk-label-container\"><div class=\"sk-label sk-toggleable\"><input class=\"sk-toggleable__control sk-hidden--visually\" id=\"sk-estimator-id-1\" type=\"checkbox\" ><label for=\"sk-estimator-id-1\" class=\"sk-toggleable__label sk-toggleable__label-arrow\">RandomizedSearchCV</label><div class=\"sk-toggleable__content\"><pre>RandomizedSearchCV(cv=3,\n",
       "                   estimator=Pipeline(steps=[(&#x27;col&#x27;,\n",
       "                                              ColumnTransformer(remainder=&#x27;passthrough&#x27;,\n",
       "                                                                transformers=[(&#x27;numeric&#x27;,\n",
       "                                                                               Pipeline(steps=[(&#x27;standardscaler&#x27;,\n",
       "                                                                                                StandardScaler())]),\n",
       "                                                                               [&#x27;da030&#x27;,\n",
       "                                                                                &#x27;da031&#x27;,\n",
       "                                                                                &#x27;da050_1&#x27;]),\n",
       "                                                                              (&#x27;categorical&#x27;,\n",
       "                                                                               Pipeline(steps=[(&#x27;onehotencoder&#x27;,\n",
       "                                                                                                OneHotEncoder(handle_unknown=&#x27;ignore&#x27;))]),\n",
       "                                                                               [&#x27;communityUID&#x27;])])),\n",
       "                                             (&#x27;tree&#x27;,\n",
       "                                              DecisionTreeClassifier())]),\n",
       "                   n_iter=5, n_jobs=-1,\n",
       "                   param_distributions={&#x27;tree__max_depth&#x27;: [None, 5, 10, 15, 20,\n",
       "                                                            25, 30]},\n",
       "                   verbose=2)</pre></div></div></div><div class=\"sk-parallel\"><div class=\"sk-parallel-item\"><div class=\"sk-item\"><div class=\"sk-label-container\"><div class=\"sk-label sk-toggleable\"><input class=\"sk-toggleable__control sk-hidden--visually\" id=\"sk-estimator-id-2\" type=\"checkbox\" ><label for=\"sk-estimator-id-2\" class=\"sk-toggleable__label sk-toggleable__label-arrow\">estimator: Pipeline</label><div class=\"sk-toggleable__content\"><pre>Pipeline(steps=[(&#x27;col&#x27;,\n",
       "                 ColumnTransformer(remainder=&#x27;passthrough&#x27;,\n",
       "                                   transformers=[(&#x27;numeric&#x27;,\n",
       "                                                  Pipeline(steps=[(&#x27;standardscaler&#x27;,\n",
       "                                                                   StandardScaler())]),\n",
       "                                                  [&#x27;da030&#x27;, &#x27;da031&#x27;,\n",
       "                                                   &#x27;da050_1&#x27;]),\n",
       "                                                 (&#x27;categorical&#x27;,\n",
       "                                                  Pipeline(steps=[(&#x27;onehotencoder&#x27;,\n",
       "                                                                   OneHotEncoder(handle_unknown=&#x27;ignore&#x27;))]),\n",
       "                                                  [&#x27;communityUID&#x27;])])),\n",
       "                (&#x27;tree&#x27;, DecisionTreeClassifier())])</pre></div></div></div><div class=\"sk-serial\"><div class=\"sk-item\"><div class=\"sk-serial\"><div class=\"sk-item sk-dashed-wrapped\"><div class=\"sk-label-container\"><div class=\"sk-label sk-toggleable\"><input class=\"sk-toggleable__control sk-hidden--visually\" id=\"sk-estimator-id-3\" type=\"checkbox\" ><label for=\"sk-estimator-id-3\" class=\"sk-toggleable__label sk-toggleable__label-arrow\">col: ColumnTransformer</label><div class=\"sk-toggleable__content\"><pre>ColumnTransformer(remainder=&#x27;passthrough&#x27;,\n",
       "                  transformers=[(&#x27;numeric&#x27;,\n",
       "                                 Pipeline(steps=[(&#x27;standardscaler&#x27;,\n",
       "                                                  StandardScaler())]),\n",
       "                                 [&#x27;da030&#x27;, &#x27;da031&#x27;, &#x27;da050_1&#x27;]),\n",
       "                                (&#x27;categorical&#x27;,\n",
       "                                 Pipeline(steps=[(&#x27;onehotencoder&#x27;,\n",
       "                                                  OneHotEncoder(handle_unknown=&#x27;ignore&#x27;))]),\n",
       "                                 [&#x27;communityUID&#x27;])])</pre></div></div></div><div class=\"sk-parallel\"><div class=\"sk-parallel-item\"><div class=\"sk-item\"><div class=\"sk-label-container\"><div class=\"sk-label sk-toggleable\"><input class=\"sk-toggleable__control sk-hidden--visually\" id=\"sk-estimator-id-4\" type=\"checkbox\" ><label for=\"sk-estimator-id-4\" class=\"sk-toggleable__label sk-toggleable__label-arrow\">numeric</label><div class=\"sk-toggleable__content\"><pre>[&#x27;da030&#x27;, &#x27;da031&#x27;, &#x27;da050_1&#x27;]</pre></div></div></div><div class=\"sk-serial\"><div class=\"sk-item\"><div class=\"sk-serial\"><div class=\"sk-item\"><div class=\"sk-estimator sk-toggleable\"><input class=\"sk-toggleable__control sk-hidden--visually\" id=\"sk-estimator-id-5\" type=\"checkbox\" ><label for=\"sk-estimator-id-5\" class=\"sk-toggleable__label sk-toggleable__label-arrow\">StandardScaler</label><div class=\"sk-toggleable__content\"><pre>StandardScaler()</pre></div></div></div></div></div></div></div></div><div class=\"sk-parallel-item\"><div class=\"sk-item\"><div class=\"sk-label-container\"><div class=\"sk-label sk-toggleable\"><input class=\"sk-toggleable__control sk-hidden--visually\" id=\"sk-estimator-id-6\" type=\"checkbox\" ><label for=\"sk-estimator-id-6\" class=\"sk-toggleable__label sk-toggleable__label-arrow\">categorical</label><div class=\"sk-toggleable__content\"><pre>[&#x27;communityUID&#x27;]</pre></div></div></div><div class=\"sk-serial\"><div class=\"sk-item\"><div class=\"sk-serial\"><div class=\"sk-item\"><div class=\"sk-estimator sk-toggleable\"><input class=\"sk-toggleable__control sk-hidden--visually\" id=\"sk-estimator-id-7\" type=\"checkbox\" ><label for=\"sk-estimator-id-7\" class=\"sk-toggleable__label sk-toggleable__label-arrow\">OneHotEncoder</label><div class=\"sk-toggleable__content\"><pre>OneHotEncoder(handle_unknown=&#x27;ignore&#x27;)</pre></div></div></div></div></div></div></div></div><div class=\"sk-parallel-item\"><div class=\"sk-item\"><div class=\"sk-label-container\"><div class=\"sk-label sk-toggleable\"><input class=\"sk-toggleable__control sk-hidden--visually\" id=\"sk-estimator-id-8\" type=\"checkbox\" ><label for=\"sk-estimator-id-8\" class=\"sk-toggleable__label sk-toggleable__label-arrow\">remainder</label><div class=\"sk-toggleable__content\"><pre>[&#x27;ba001&#x27;, &#x27;ba009&#x27;, &#x27;ba011&#x27;, &#x27;ba014&#x27;, &#x27;ba015&#x27;, &#x27;ba016&#x27;, &#x27;ba017&#x27;, &#x27;da001&#x27;, &#x27;da002_1_&#x27;, &#x27;da002_2_&#x27;, &#x27;da002_3_&#x27;, &#x27;da002_4_&#x27;, &#x27;da002_5_&#x27;, &#x27;da002_6_&#x27;, &#x27;da002_7_&#x27;, &#x27;da002_8_&#x27;, &#x27;da002_9_&#x27;, &#x27;da002_10_&#x27;, &#x27;da002_11_&#x27;, &#x27;da002_12_&#x27;, &#x27;da002_13_&#x27;, &#x27;da002_14_&#x27;, &#x27;da019&#x27;, &#x27;da022&#x27;, &#x27;da025&#x27;, &#x27;da027&#x27;, &#x27;da029&#x27;, &#x27;da038_s1&#x27;, &#x27;da038_s2&#x27;, &#x27;da038_s3&#x27;, &#x27;da038_s4&#x27;, &#x27;da038_s5&#x27;, &#x27;da038_s6&#x27;, &#x27;da038_s7&#x27;, &#x27;da038_s8&#x27;, &#x27;da038_s9&#x27;, &#x27;da040&#x27;, &#x27;da051&#x27;, &#x27;db001&#x27;, &#x27;db003&#x27;, &#x27;db005&#x27;, &#x27;db007&#x27;, &#x27;db009&#x27;, &#x27;db011&#x27;, &#x27;db012&#x27;, &#x27;db014&#x27;, &#x27;db016&#x27;, &#x27;db018&#x27;, &#x27;db020&#x27;, &#x27;db022&#x27;, &#x27;fa001&#x27;, &#x27;fc006&#x27;, &#x27;fc008&#x27;]</pre></div></div></div><div class=\"sk-serial\"><div class=\"sk-item\"><div class=\"sk-estimator sk-toggleable\"><input class=\"sk-toggleable__control sk-hidden--visually\" id=\"sk-estimator-id-9\" type=\"checkbox\" ><label for=\"sk-estimator-id-9\" class=\"sk-toggleable__label sk-toggleable__label-arrow\">passthrough</label><div class=\"sk-toggleable__content\"><pre>passthrough</pre></div></div></div></div></div></div></div></div><div class=\"sk-item\"><div class=\"sk-estimator sk-toggleable\"><input class=\"sk-toggleable__control sk-hidden--visually\" id=\"sk-estimator-id-10\" type=\"checkbox\" ><label for=\"sk-estimator-id-10\" class=\"sk-toggleable__label sk-toggleable__label-arrow\">DecisionTreeClassifier</label><div class=\"sk-toggleable__content\"><pre>DecisionTreeClassifier()</pre></div></div></div></div></div></div></div></div></div></div></div></div>"
      ],
      "text/plain": [
       "RandomizedSearchCV(cv=3,\n",
       "                   estimator=Pipeline(steps=[('col',\n",
       "                                              ColumnTransformer(remainder='passthrough',\n",
       "                                                                transformers=[('numeric',\n",
       "                                                                               Pipeline(steps=[('standardscaler',\n",
       "                                                                                                StandardScaler())]),\n",
       "                                                                               ['da030',\n",
       "                                                                                'da031',\n",
       "                                                                                'da050_1']),\n",
       "                                                                              ('categorical',\n",
       "                                                                               Pipeline(steps=[('onehotencoder',\n",
       "                                                                                                OneHotEncoder(handle_unknown='ignore'))]),\n",
       "                                                                               ['communityUID'])])),\n",
       "                                             ('tree',\n",
       "                                              DecisionTreeClassifier())]),\n",
       "                   n_iter=5, n_jobs=-1,\n",
       "                   param_distributions={'tree__max_depth': [None, 5, 10, 15, 20,\n",
       "                                                            25, 30]},\n",
       "                   verbose=2)"
      ]
     },
     "execution_count": 24,
     "metadata": {},
     "output_type": "execute_result"
    }
   ],
   "source": [
    "from sklearn.tree import DecisionTreeClassifier\n",
    "\n",
    "tree_pipe = Pipeline(steps=[('col',col_transformer),('tree',DecisionTreeClassifier())])\n",
    "\n",
    "tree_param = {\n",
    "    'tree__max_depth': [None, 5, 10, 15, 20, 25, 30]\n",
    "}\n",
    "\n",
    "tree_opt = RandomizedSearchCV(tree_pipe,tree_param, cv=3, verbose=2, n_jobs=-1, n_iter=5)\n",
    "tree_opt.fit(X_train,y_train)"
   ]
  },
  {
   "cell_type": "code",
   "execution_count": 25,
   "metadata": {},
   "outputs": [
    {
     "data": {
      "text/plain": [
       "fit_time       0.045963\n",
       "score_time     0.004346\n",
       "test_score     0.600933\n",
       "train_score    0.619087\n",
       "dtype: float64"
      ]
     },
     "execution_count": 25,
     "metadata": {},
     "output_type": "execute_result"
    }
   ],
   "source": [
    "tree_cv = cross_validate(tree_opt.best_estimator_,X_train,y_train,cv=10,return_train_score=True)\n",
    "pd.DataFrame(tree_cv).mean()\n"
   ]
  },
  {
   "cell_type": "code",
   "execution_count": 26,
   "metadata": {},
   "outputs": [
    {
     "data": {
      "text/plain": [
       "0.6077498300475866"
      ]
     },
     "execution_count": 26,
     "metadata": {},
     "output_type": "execute_result"
    }
   ],
   "source": [
    "tree_opt.score(X_test,y_test)"
   ]
  },
  {
   "cell_type": "markdown",
   "metadata": {},
   "source": [
    "The decision tree model has no overfitting or underfitting problems, the result accuracy is a little bit higher than "
   ]
  },
  {
   "cell_type": "markdown",
   "metadata": {},
   "source": [
    "### 3.4 SVM"
   ]
  },
  {
   "cell_type": "code",
   "execution_count": 27,
   "metadata": {},
   "outputs": [
    {
     "name": "stdout",
     "output_type": "stream",
     "text": [
      "Fitting 3 folds for each of 5 candidates, totalling 15 fits\n",
      "[CV] END .........................svc__C=1.0, svc__gamma=100; total time=   8.4s\n",
      "[CV] END .........................svc__C=1.0, svc__gamma=100; total time=   8.7s\n",
      "[CV] END .........................svc__C=1.0, svc__gamma=100; total time=   8.7s\n",
      "[CV] END ..........................svc__C=10, svc__gamma=0.1; total time=  11.1s\n",
      "[CV] END ..........................svc__C=10, svc__gamma=0.1; total time=  11.1s\n",
      "[CV] END ..........................svc__C=10, svc__gamma=0.1; total time=  11.2s\n",
      "[CV] END .........................svc__C=0.1, svc__gamma=0.1; total time=   6.9s\n",
      "[CV] END .........................svc__C=0.1, svc__gamma=0.1; total time=   7.0s\n",
      "[CV] END .........................svc__C=100, svc__gamma=1.0; total time=  16.7s\n",
      "[CV] END .........................svc__C=100, svc__gamma=1.0; total time=  17.0s\n",
      "[CV] END .........................svc__C=0.1, svc__gamma=0.1; total time=   6.5s\n",
      "[CV] END .........................svc__C=100, svc__gamma=1.0; total time=  15.3s\n",
      "[CV] END ...........................svc__C=10, svc__gamma=10; total time=  15.2s\n",
      "[CV] END ...........................svc__C=10, svc__gamma=10; total time=  15.1s\n",
      "[CV] END ...........................svc__C=10, svc__gamma=10; total time=  14.3s\n"
     ]
    },
    {
     "data": {
      "text/html": [
       "<style>#sk-container-id-2 {color: black;background-color: white;}#sk-container-id-2 pre{padding: 0;}#sk-container-id-2 div.sk-toggleable {background-color: white;}#sk-container-id-2 label.sk-toggleable__label {cursor: pointer;display: block;width: 100%;margin-bottom: 0;padding: 0.3em;box-sizing: border-box;text-align: center;}#sk-container-id-2 label.sk-toggleable__label-arrow:before {content: \"▸\";float: left;margin-right: 0.25em;color: #696969;}#sk-container-id-2 label.sk-toggleable__label-arrow:hover:before {color: black;}#sk-container-id-2 div.sk-estimator:hover label.sk-toggleable__label-arrow:before {color: black;}#sk-container-id-2 div.sk-toggleable__content {max-height: 0;max-width: 0;overflow: hidden;text-align: left;background-color: #f0f8ff;}#sk-container-id-2 div.sk-toggleable__content pre {margin: 0.2em;color: black;border-radius: 0.25em;background-color: #f0f8ff;}#sk-container-id-2 input.sk-toggleable__control:checked~div.sk-toggleable__content {max-height: 200px;max-width: 100%;overflow: auto;}#sk-container-id-2 input.sk-toggleable__control:checked~label.sk-toggleable__label-arrow:before {content: \"▾\";}#sk-container-id-2 div.sk-estimator input.sk-toggleable__control:checked~label.sk-toggleable__label {background-color: #d4ebff;}#sk-container-id-2 div.sk-label input.sk-toggleable__control:checked~label.sk-toggleable__label {background-color: #d4ebff;}#sk-container-id-2 input.sk-hidden--visually {border: 0;clip: rect(1px 1px 1px 1px);clip: rect(1px, 1px, 1px, 1px);height: 1px;margin: -1px;overflow: hidden;padding: 0;position: absolute;width: 1px;}#sk-container-id-2 div.sk-estimator {font-family: monospace;background-color: #f0f8ff;border: 1px dotted black;border-radius: 0.25em;box-sizing: border-box;margin-bottom: 0.5em;}#sk-container-id-2 div.sk-estimator:hover {background-color: #d4ebff;}#sk-container-id-2 div.sk-parallel-item::after {content: \"\";width: 100%;border-bottom: 1px solid gray;flex-grow: 1;}#sk-container-id-2 div.sk-label:hover label.sk-toggleable__label {background-color: #d4ebff;}#sk-container-id-2 div.sk-serial::before {content: \"\";position: absolute;border-left: 1px solid gray;box-sizing: border-box;top: 0;bottom: 0;left: 50%;z-index: 0;}#sk-container-id-2 div.sk-serial {display: flex;flex-direction: column;align-items: center;background-color: white;padding-right: 0.2em;padding-left: 0.2em;position: relative;}#sk-container-id-2 div.sk-item {position: relative;z-index: 1;}#sk-container-id-2 div.sk-parallel {display: flex;align-items: stretch;justify-content: center;background-color: white;position: relative;}#sk-container-id-2 div.sk-item::before, #sk-container-id-2 div.sk-parallel-item::before {content: \"\";position: absolute;border-left: 1px solid gray;box-sizing: border-box;top: 0;bottom: 0;left: 50%;z-index: -1;}#sk-container-id-2 div.sk-parallel-item {display: flex;flex-direction: column;z-index: 1;position: relative;background-color: white;}#sk-container-id-2 div.sk-parallel-item:first-child::after {align-self: flex-end;width: 50%;}#sk-container-id-2 div.sk-parallel-item:last-child::after {align-self: flex-start;width: 50%;}#sk-container-id-2 div.sk-parallel-item:only-child::after {width: 0;}#sk-container-id-2 div.sk-dashed-wrapped {border: 1px dashed gray;margin: 0 0.4em 0.5em 0.4em;box-sizing: border-box;padding-bottom: 0.4em;background-color: white;}#sk-container-id-2 div.sk-label label {font-family: monospace;font-weight: bold;display: inline-block;line-height: 1.2em;}#sk-container-id-2 div.sk-label-container {text-align: center;}#sk-container-id-2 div.sk-container {/* jupyter's `normalize.less` sets `[hidden] { display: none; }` but bootstrap.min.css set `[hidden] { display: none !important; }` so we also need the `!important` here to be able to override the default hidden behavior on the sphinx rendered scikit-learn.org. See: https://github.com/scikit-learn/scikit-learn/issues/21755 */display: inline-block !important;position: relative;}#sk-container-id-2 div.sk-text-repr-fallback {display: none;}</style><div id=\"sk-container-id-2\" class=\"sk-top-container\"><div class=\"sk-text-repr-fallback\"><pre>RandomizedSearchCV(cv=3,\n",
       "                   estimator=Pipeline(steps=[(&#x27;columntransformer&#x27;,\n",
       "                                              ColumnTransformer(remainder=&#x27;passthrough&#x27;,\n",
       "                                                                transformers=[(&#x27;numeric&#x27;,\n",
       "                                                                               Pipeline(steps=[(&#x27;standardscaler&#x27;,\n",
       "                                                                                                StandardScaler())]),\n",
       "                                                                               [&#x27;da030&#x27;,\n",
       "                                                                                &#x27;da031&#x27;,\n",
       "                                                                                &#x27;da050_1&#x27;]),\n",
       "                                                                              (&#x27;categorical&#x27;,\n",
       "                                                                               Pipeline(steps=[(&#x27;onehotencoder&#x27;,\n",
       "                                                                                                OneHotEncoder(handle_unknown=&#x27;ignore&#x27;))]),\n",
       "                                                                               [&#x27;communityUID&#x27;])])),\n",
       "                                             (&#x27;svc&#x27;, SVC())]),\n",
       "                   n_iter=5, n_jobs=-1,\n",
       "                   param_distributions={&#x27;svc__C&#x27;: [0.1, 1.0, 10, 100],\n",
       "                                        &#x27;svc__gamma&#x27;: [0.1, 1.0, 10, 100]},\n",
       "                   verbose=2)</pre><b>In a Jupyter environment, please rerun this cell to show the HTML representation or trust the notebook. <br />On GitHub, the HTML representation is unable to render, please try loading this page with nbviewer.org.</b></div><div class=\"sk-container\" hidden><div class=\"sk-item sk-dashed-wrapped\"><div class=\"sk-label-container\"><div class=\"sk-label sk-toggleable\"><input class=\"sk-toggleable__control sk-hidden--visually\" id=\"sk-estimator-id-11\" type=\"checkbox\" ><label for=\"sk-estimator-id-11\" class=\"sk-toggleable__label sk-toggleable__label-arrow\">RandomizedSearchCV</label><div class=\"sk-toggleable__content\"><pre>RandomizedSearchCV(cv=3,\n",
       "                   estimator=Pipeline(steps=[(&#x27;columntransformer&#x27;,\n",
       "                                              ColumnTransformer(remainder=&#x27;passthrough&#x27;,\n",
       "                                                                transformers=[(&#x27;numeric&#x27;,\n",
       "                                                                               Pipeline(steps=[(&#x27;standardscaler&#x27;,\n",
       "                                                                                                StandardScaler())]),\n",
       "                                                                               [&#x27;da030&#x27;,\n",
       "                                                                                &#x27;da031&#x27;,\n",
       "                                                                                &#x27;da050_1&#x27;]),\n",
       "                                                                              (&#x27;categorical&#x27;,\n",
       "                                                                               Pipeline(steps=[(&#x27;onehotencoder&#x27;,\n",
       "                                                                                                OneHotEncoder(handle_unknown=&#x27;ignore&#x27;))]),\n",
       "                                                                               [&#x27;communityUID&#x27;])])),\n",
       "                                             (&#x27;svc&#x27;, SVC())]),\n",
       "                   n_iter=5, n_jobs=-1,\n",
       "                   param_distributions={&#x27;svc__C&#x27;: [0.1, 1.0, 10, 100],\n",
       "                                        &#x27;svc__gamma&#x27;: [0.1, 1.0, 10, 100]},\n",
       "                   verbose=2)</pre></div></div></div><div class=\"sk-parallel\"><div class=\"sk-parallel-item\"><div class=\"sk-item\"><div class=\"sk-label-container\"><div class=\"sk-label sk-toggleable\"><input class=\"sk-toggleable__control sk-hidden--visually\" id=\"sk-estimator-id-12\" type=\"checkbox\" ><label for=\"sk-estimator-id-12\" class=\"sk-toggleable__label sk-toggleable__label-arrow\">estimator: Pipeline</label><div class=\"sk-toggleable__content\"><pre>Pipeline(steps=[(&#x27;columntransformer&#x27;,\n",
       "                 ColumnTransformer(remainder=&#x27;passthrough&#x27;,\n",
       "                                   transformers=[(&#x27;numeric&#x27;,\n",
       "                                                  Pipeline(steps=[(&#x27;standardscaler&#x27;,\n",
       "                                                                   StandardScaler())]),\n",
       "                                                  [&#x27;da030&#x27;, &#x27;da031&#x27;,\n",
       "                                                   &#x27;da050_1&#x27;]),\n",
       "                                                 (&#x27;categorical&#x27;,\n",
       "                                                  Pipeline(steps=[(&#x27;onehotencoder&#x27;,\n",
       "                                                                   OneHotEncoder(handle_unknown=&#x27;ignore&#x27;))]),\n",
       "                                                  [&#x27;communityUID&#x27;])])),\n",
       "                (&#x27;svc&#x27;, SVC())])</pre></div></div></div><div class=\"sk-serial\"><div class=\"sk-item\"><div class=\"sk-serial\"><div class=\"sk-item sk-dashed-wrapped\"><div class=\"sk-label-container\"><div class=\"sk-label sk-toggleable\"><input class=\"sk-toggleable__control sk-hidden--visually\" id=\"sk-estimator-id-13\" type=\"checkbox\" ><label for=\"sk-estimator-id-13\" class=\"sk-toggleable__label sk-toggleable__label-arrow\">columntransformer: ColumnTransformer</label><div class=\"sk-toggleable__content\"><pre>ColumnTransformer(remainder=&#x27;passthrough&#x27;,\n",
       "                  transformers=[(&#x27;numeric&#x27;,\n",
       "                                 Pipeline(steps=[(&#x27;standardscaler&#x27;,\n",
       "                                                  StandardScaler())]),\n",
       "                                 [&#x27;da030&#x27;, &#x27;da031&#x27;, &#x27;da050_1&#x27;]),\n",
       "                                (&#x27;categorical&#x27;,\n",
       "                                 Pipeline(steps=[(&#x27;onehotencoder&#x27;,\n",
       "                                                  OneHotEncoder(handle_unknown=&#x27;ignore&#x27;))]),\n",
       "                                 [&#x27;communityUID&#x27;])])</pre></div></div></div><div class=\"sk-parallel\"><div class=\"sk-parallel-item\"><div class=\"sk-item\"><div class=\"sk-label-container\"><div class=\"sk-label sk-toggleable\"><input class=\"sk-toggleable__control sk-hidden--visually\" id=\"sk-estimator-id-14\" type=\"checkbox\" ><label for=\"sk-estimator-id-14\" class=\"sk-toggleable__label sk-toggleable__label-arrow\">numeric</label><div class=\"sk-toggleable__content\"><pre>[&#x27;da030&#x27;, &#x27;da031&#x27;, &#x27;da050_1&#x27;]</pre></div></div></div><div class=\"sk-serial\"><div class=\"sk-item\"><div class=\"sk-serial\"><div class=\"sk-item\"><div class=\"sk-estimator sk-toggleable\"><input class=\"sk-toggleable__control sk-hidden--visually\" id=\"sk-estimator-id-15\" type=\"checkbox\" ><label for=\"sk-estimator-id-15\" class=\"sk-toggleable__label sk-toggleable__label-arrow\">StandardScaler</label><div class=\"sk-toggleable__content\"><pre>StandardScaler()</pre></div></div></div></div></div></div></div></div><div class=\"sk-parallel-item\"><div class=\"sk-item\"><div class=\"sk-label-container\"><div class=\"sk-label sk-toggleable\"><input class=\"sk-toggleable__control sk-hidden--visually\" id=\"sk-estimator-id-16\" type=\"checkbox\" ><label for=\"sk-estimator-id-16\" class=\"sk-toggleable__label sk-toggleable__label-arrow\">categorical</label><div class=\"sk-toggleable__content\"><pre>[&#x27;communityUID&#x27;]</pre></div></div></div><div class=\"sk-serial\"><div class=\"sk-item\"><div class=\"sk-serial\"><div class=\"sk-item\"><div class=\"sk-estimator sk-toggleable\"><input class=\"sk-toggleable__control sk-hidden--visually\" id=\"sk-estimator-id-17\" type=\"checkbox\" ><label for=\"sk-estimator-id-17\" class=\"sk-toggleable__label sk-toggleable__label-arrow\">OneHotEncoder</label><div class=\"sk-toggleable__content\"><pre>OneHotEncoder(handle_unknown=&#x27;ignore&#x27;)</pre></div></div></div></div></div></div></div></div><div class=\"sk-parallel-item\"><div class=\"sk-item\"><div class=\"sk-label-container\"><div class=\"sk-label sk-toggleable\"><input class=\"sk-toggleable__control sk-hidden--visually\" id=\"sk-estimator-id-18\" type=\"checkbox\" ><label for=\"sk-estimator-id-18\" class=\"sk-toggleable__label sk-toggleable__label-arrow\">remainder</label><div class=\"sk-toggleable__content\"><pre>[&#x27;ba001&#x27;, &#x27;ba009&#x27;, &#x27;ba011&#x27;, &#x27;ba014&#x27;, &#x27;ba015&#x27;, &#x27;ba016&#x27;, &#x27;ba017&#x27;, &#x27;da001&#x27;, &#x27;da002_1_&#x27;, &#x27;da002_2_&#x27;, &#x27;da002_3_&#x27;, &#x27;da002_4_&#x27;, &#x27;da002_5_&#x27;, &#x27;da002_6_&#x27;, &#x27;da002_7_&#x27;, &#x27;da002_8_&#x27;, &#x27;da002_9_&#x27;, &#x27;da002_10_&#x27;, &#x27;da002_11_&#x27;, &#x27;da002_12_&#x27;, &#x27;da002_13_&#x27;, &#x27;da002_14_&#x27;, &#x27;da019&#x27;, &#x27;da022&#x27;, &#x27;da025&#x27;, &#x27;da027&#x27;, &#x27;da029&#x27;, &#x27;da038_s1&#x27;, &#x27;da038_s2&#x27;, &#x27;da038_s3&#x27;, &#x27;da038_s4&#x27;, &#x27;da038_s5&#x27;, &#x27;da038_s6&#x27;, &#x27;da038_s7&#x27;, &#x27;da038_s8&#x27;, &#x27;da038_s9&#x27;, &#x27;da040&#x27;, &#x27;da051&#x27;, &#x27;db001&#x27;, &#x27;db003&#x27;, &#x27;db005&#x27;, &#x27;db007&#x27;, &#x27;db009&#x27;, &#x27;db011&#x27;, &#x27;db012&#x27;, &#x27;db014&#x27;, &#x27;db016&#x27;, &#x27;db018&#x27;, &#x27;db020&#x27;, &#x27;db022&#x27;, &#x27;fa001&#x27;, &#x27;fc006&#x27;, &#x27;fc008&#x27;]</pre></div></div></div><div class=\"sk-serial\"><div class=\"sk-item\"><div class=\"sk-estimator sk-toggleable\"><input class=\"sk-toggleable__control sk-hidden--visually\" id=\"sk-estimator-id-19\" type=\"checkbox\" ><label for=\"sk-estimator-id-19\" class=\"sk-toggleable__label sk-toggleable__label-arrow\">passthrough</label><div class=\"sk-toggleable__content\"><pre>passthrough</pre></div></div></div></div></div></div></div></div><div class=\"sk-item\"><div class=\"sk-estimator sk-toggleable\"><input class=\"sk-toggleable__control sk-hidden--visually\" id=\"sk-estimator-id-20\" type=\"checkbox\" ><label for=\"sk-estimator-id-20\" class=\"sk-toggleable__label sk-toggleable__label-arrow\">SVC</label><div class=\"sk-toggleable__content\"><pre>SVC()</pre></div></div></div></div></div></div></div></div></div></div></div></div>"
      ],
      "text/plain": [
       "RandomizedSearchCV(cv=3,\n",
       "                   estimator=Pipeline(steps=[('columntransformer',\n",
       "                                              ColumnTransformer(remainder='passthrough',\n",
       "                                                                transformers=[('numeric',\n",
       "                                                                               Pipeline(steps=[('standardscaler',\n",
       "                                                                                                StandardScaler())]),\n",
       "                                                                               ['da030',\n",
       "                                                                                'da031',\n",
       "                                                                                'da050_1']),\n",
       "                                                                              ('categorical',\n",
       "                                                                               Pipeline(steps=[('onehotencoder',\n",
       "                                                                                                OneHotEncoder(handle_unknown='ignore'))]),\n",
       "                                                                               ['communityUID'])])),\n",
       "                                             ('svc', SVC())]),\n",
       "                   n_iter=5, n_jobs=-1,\n",
       "                   param_distributions={'svc__C': [0.1, 1.0, 10, 100],\n",
       "                                        'svc__gamma': [0.1, 1.0, 10, 100]},\n",
       "                   verbose=2)"
      ]
     },
     "execution_count": 27,
     "metadata": {},
     "output_type": "execute_result"
    }
   ],
   "source": [
    "from sklearn.svm import SVC\n",
    "\n",
    "svc_pipe = make_pipeline(col_transformer,SVC())\n",
    "\n",
    "svc_para={'svc__C': [0.1, 1.0, 10, 100],'svc__gamma': [0.1, 1.0, 10, 100]}\n",
    "svc_opt = RandomizedSearchCV(svc_pipe,svc_para, cv=3, verbose=2, n_jobs=-1, n_iter=5)\n",
    "svc_opt.fit(X_train,y_train)\n"
   ]
  },
  {
   "cell_type": "code",
   "execution_count": 28,
   "metadata": {},
   "outputs": [
    {
     "data": {
      "text/plain": [
       "fit_time       23.835082\n",
       "score_time      0.603705\n",
       "test_score      0.573226\n",
       "train_score     1.000000\n",
       "dtype: float64"
      ]
     },
     "execution_count": 28,
     "metadata": {},
     "output_type": "execute_result"
    }
   ],
   "source": [
    "svc_cv = cross_validate(svc_opt.best_estimator_,X_train,y_train,cv=10,return_train_score=True)\n",
    "pd.DataFrame(svc_cv).mean()\n"
   ]
  },
  {
   "cell_type": "code",
   "execution_count": 29,
   "metadata": {},
   "outputs": [
    {
     "data": {
      "text/plain": [
       "0.5798776342624066"
      ]
     },
     "execution_count": 29,
     "metadata": {},
     "output_type": "execute_result"
    }
   ],
   "source": [
    "svc_opt.score(X_test,y_test)"
   ]
  },
  {
   "cell_type": "markdown",
   "metadata": {},
   "source": [
    "The same, no better than dummy classifier"
   ]
  },
  {
   "cell_type": "code",
   "execution_count": 30,
   "metadata": {},
   "outputs": [
    {
     "data": {
      "text/plain": [
       "{'svc__gamma': 0.1, 'svc__C': 10}"
      ]
     },
     "execution_count": 30,
     "metadata": {},
     "output_type": "execute_result"
    }
   ],
   "source": [
    "svc_opt.best_params_"
   ]
  },
  {
   "cell_type": "markdown",
   "metadata": {},
   "source": [
    "### 3.5 Linear Regression"
   ]
  },
  {
   "cell_type": "code",
   "execution_count": 31,
   "metadata": {},
   "outputs": [
    {
     "name": "stdout",
     "output_type": "stream",
     "text": [
      "Fitting 10 folds for each of 6 candidates, totalling 60 fits\n",
      "[CV] END ........................logisticregression__C=0.001; total time=   0.1s\n",
      "[CV] END ........................logisticregression__C=0.001; total time=   0.1s\n",
      "[CV] END ........................logisticregression__C=0.001; total time=   0.1s\n",
      "[CV] END ........................logisticregression__C=0.001; total time=   0.1s\n",
      "[CV] END ........................logisticregression__C=0.001; total time=   0.1s\n",
      "[CV] END ........................logisticregression__C=0.001; total time=   0.2s\n",
      "[CV] END ........................logisticregression__C=0.001; total time=   0.2s\n",
      "[CV] END ........................logisticregression__C=0.001; total time=   0.2s\n",
      "[CV] END ........................logisticregression__C=0.001; total time=   0.1s\n",
      "[CV] END ........................logisticregression__C=0.001; total time=   0.1s\n",
      "[CV] END .........................logisticregression__C=0.01; total time=   0.2s\n",
      "[CV] END .........................logisticregression__C=0.01; total time=   0.2s\n",
      "[CV] END .........................logisticregression__C=0.01; total time=   0.3s\n",
      "[CV] END .........................logisticregression__C=0.01; total time=   0.3s\n",
      "[CV] END .........................logisticregression__C=0.01; total time=   0.3s\n",
      "[CV] END .........................logisticregression__C=0.01; total time=   0.3s\n",
      "[CV] END .........................logisticregression__C=0.01; total time=   0.3s\n",
      "[CV] END .........................logisticregression__C=0.01; total time=   0.3s\n",
      "[CV] END .........................logisticregression__C=0.01; total time=   0.3s\n",
      "[CV] END .........................logisticregression__C=0.01; total time=   0.4s\n",
      "[CV] END ..........................logisticregression__C=0.1; total time=   0.7s\n",
      "[CV] END ..........................logisticregression__C=0.1; total time=   0.8s\n",
      "[CV] END ..........................logisticregression__C=0.1; total time=   0.7s\n",
      "[CV] END ..........................logisticregression__C=0.1; total time=   0.7s\n",
      "[CV] END ..........................logisticregression__C=0.1; total time=   0.6s\n",
      "[CV] END ..........................logisticregression__C=0.1; total time=   0.7s\n",
      "[CV] END ..........................logisticregression__C=0.1; total time=   0.7s\n",
      "[CV] END ..........................logisticregression__C=0.1; total time=   0.6s\n",
      "[CV] END ..........................logisticregression__C=0.1; total time=   0.7s\n",
      "[CV] END ..........................logisticregression__C=0.1; total time=   0.8s\n",
      "[CV] END ............................logisticregression__C=1; total time=   0.9s\n",
      "[CV] END ............................logisticregression__C=1; total time=   1.0s\n",
      "[CV] END ............................logisticregression__C=1; total time=   1.0s\n",
      "[CV] END ............................logisticregression__C=1; total time=   1.1s\n",
      "[CV] END ............................logisticregression__C=1; total time=   1.1s\n",
      "[CV] END ............................logisticregression__C=1; total time=   1.1s\n",
      "[CV] END ............................logisticregression__C=1; total time=   1.1s\n",
      "[CV] END ............................logisticregression__C=1; total time=   1.0s\n",
      "[CV] END ............................logisticregression__C=1; total time=   1.0s\n",
      "[CV] END ............................logisticregression__C=1; total time=   1.1s\n",
      "[CV] END ...........................logisticregression__C=10; total time=   1.4s\n",
      "[CV] END ...........................logisticregression__C=10; total time=   1.6s\n",
      "[CV] END ...........................logisticregression__C=10; total time=   1.5s\n",
      "[CV] END ...........................logisticregression__C=10; total time=   1.6s\n",
      "[CV] END ...........................logisticregression__C=10; total time=   1.4s\n",
      "[CV] END ...........................logisticregression__C=10; total time=   1.6s\n",
      "[CV] END ...........................logisticregression__C=10; total time=   1.4s\n",
      "[CV] END ...........................logisticregression__C=10; total time=   1.5s\n",
      "[CV] END ...........................logisticregression__C=10; total time=   1.4s\n",
      "[CV] END ...........................logisticregression__C=10; total time=   1.6s\n",
      "[CV] END ..........................logisticregression__C=100; total time=   2.0s\n",
      "[CV] END ..........................logisticregression__C=100; total time=   2.3s\n",
      "[CV] END ..........................logisticregression__C=100; total time=   1.9s\n",
      "[CV] END ..........................logisticregression__C=100; total time=   1.9s\n",
      "[CV] END ..........................logisticregression__C=100; total time=   2.3s\n",
      "[CV] END ..........................logisticregression__C=100; total time=   2.4s\n",
      "[CV] END ..........................logisticregression__C=100; total time=   1.7s\n",
      "[CV] END ..........................logisticregression__C=100; total time=   1.9s\n",
      "[CV] END ..........................logisticregression__C=100; total time=   1.6s\n",
      "[CV] END ..........................logisticregression__C=100; total time=   1.4s\n"
     ]
    },
    {
     "data": {
      "text/html": [
       "<style>#sk-container-id-3 {color: black;background-color: white;}#sk-container-id-3 pre{padding: 0;}#sk-container-id-3 div.sk-toggleable {background-color: white;}#sk-container-id-3 label.sk-toggleable__label {cursor: pointer;display: block;width: 100%;margin-bottom: 0;padding: 0.3em;box-sizing: border-box;text-align: center;}#sk-container-id-3 label.sk-toggleable__label-arrow:before {content: \"▸\";float: left;margin-right: 0.25em;color: #696969;}#sk-container-id-3 label.sk-toggleable__label-arrow:hover:before {color: black;}#sk-container-id-3 div.sk-estimator:hover label.sk-toggleable__label-arrow:before {color: black;}#sk-container-id-3 div.sk-toggleable__content {max-height: 0;max-width: 0;overflow: hidden;text-align: left;background-color: #f0f8ff;}#sk-container-id-3 div.sk-toggleable__content pre {margin: 0.2em;color: black;border-radius: 0.25em;background-color: #f0f8ff;}#sk-container-id-3 input.sk-toggleable__control:checked~div.sk-toggleable__content {max-height: 200px;max-width: 100%;overflow: auto;}#sk-container-id-3 input.sk-toggleable__control:checked~label.sk-toggleable__label-arrow:before {content: \"▾\";}#sk-container-id-3 div.sk-estimator input.sk-toggleable__control:checked~label.sk-toggleable__label {background-color: #d4ebff;}#sk-container-id-3 div.sk-label input.sk-toggleable__control:checked~label.sk-toggleable__label {background-color: #d4ebff;}#sk-container-id-3 input.sk-hidden--visually {border: 0;clip: rect(1px 1px 1px 1px);clip: rect(1px, 1px, 1px, 1px);height: 1px;margin: -1px;overflow: hidden;padding: 0;position: absolute;width: 1px;}#sk-container-id-3 div.sk-estimator {font-family: monospace;background-color: #f0f8ff;border: 1px dotted black;border-radius: 0.25em;box-sizing: border-box;margin-bottom: 0.5em;}#sk-container-id-3 div.sk-estimator:hover {background-color: #d4ebff;}#sk-container-id-3 div.sk-parallel-item::after {content: \"\";width: 100%;border-bottom: 1px solid gray;flex-grow: 1;}#sk-container-id-3 div.sk-label:hover label.sk-toggleable__label {background-color: #d4ebff;}#sk-container-id-3 div.sk-serial::before {content: \"\";position: absolute;border-left: 1px solid gray;box-sizing: border-box;top: 0;bottom: 0;left: 50%;z-index: 0;}#sk-container-id-3 div.sk-serial {display: flex;flex-direction: column;align-items: center;background-color: white;padding-right: 0.2em;padding-left: 0.2em;position: relative;}#sk-container-id-3 div.sk-item {position: relative;z-index: 1;}#sk-container-id-3 div.sk-parallel {display: flex;align-items: stretch;justify-content: center;background-color: white;position: relative;}#sk-container-id-3 div.sk-item::before, #sk-container-id-3 div.sk-parallel-item::before {content: \"\";position: absolute;border-left: 1px solid gray;box-sizing: border-box;top: 0;bottom: 0;left: 50%;z-index: -1;}#sk-container-id-3 div.sk-parallel-item {display: flex;flex-direction: column;z-index: 1;position: relative;background-color: white;}#sk-container-id-3 div.sk-parallel-item:first-child::after {align-self: flex-end;width: 50%;}#sk-container-id-3 div.sk-parallel-item:last-child::after {align-self: flex-start;width: 50%;}#sk-container-id-3 div.sk-parallel-item:only-child::after {width: 0;}#sk-container-id-3 div.sk-dashed-wrapped {border: 1px dashed gray;margin: 0 0.4em 0.5em 0.4em;box-sizing: border-box;padding-bottom: 0.4em;background-color: white;}#sk-container-id-3 div.sk-label label {font-family: monospace;font-weight: bold;display: inline-block;line-height: 1.2em;}#sk-container-id-3 div.sk-label-container {text-align: center;}#sk-container-id-3 div.sk-container {/* jupyter's `normalize.less` sets `[hidden] { display: none; }` but bootstrap.min.css set `[hidden] { display: none !important; }` so we also need the `!important` here to be able to override the default hidden behavior on the sphinx rendered scikit-learn.org. See: https://github.com/scikit-learn/scikit-learn/issues/21755 */display: inline-block !important;position: relative;}#sk-container-id-3 div.sk-text-repr-fallback {display: none;}</style><div id=\"sk-container-id-3\" class=\"sk-top-container\"><div class=\"sk-text-repr-fallback\"><pre>GridSearchCV(cv=10,\n",
       "             estimator=Pipeline(steps=[(&#x27;columntransformer&#x27;,\n",
       "                                        ColumnTransformer(remainder=&#x27;passthrough&#x27;,\n",
       "                                                          transformers=[(&#x27;numeric&#x27;,\n",
       "                                                                         Pipeline(steps=[(&#x27;standardscaler&#x27;,\n",
       "                                                                                          StandardScaler())]),\n",
       "                                                                         [&#x27;da030&#x27;,\n",
       "                                                                          &#x27;da031&#x27;,\n",
       "                                                                          &#x27;da050_1&#x27;]),\n",
       "                                                                        (&#x27;categorical&#x27;,\n",
       "                                                                         Pipeline(steps=[(&#x27;onehotencoder&#x27;,\n",
       "                                                                                          OneHotEncoder(handle_unknown=&#x27;ignore&#x27;))]),\n",
       "                                                                         [&#x27;communityUID&#x27;])])),\n",
       "                                       (&#x27;logisticregression&#x27;,\n",
       "                                        LogisticRegression(max_iter=10000))]),\n",
       "             n_jobs=-1,\n",
       "             param_grid={&#x27;logisticregression__C&#x27;: [0.001, 0.01, 0.1, 1, 10,\n",
       "                                                   100]},\n",
       "             verbose=2)</pre><b>In a Jupyter environment, please rerun this cell to show the HTML representation or trust the notebook. <br />On GitHub, the HTML representation is unable to render, please try loading this page with nbviewer.org.</b></div><div class=\"sk-container\" hidden><div class=\"sk-item sk-dashed-wrapped\"><div class=\"sk-label-container\"><div class=\"sk-label sk-toggleable\"><input class=\"sk-toggleable__control sk-hidden--visually\" id=\"sk-estimator-id-21\" type=\"checkbox\" ><label for=\"sk-estimator-id-21\" class=\"sk-toggleable__label sk-toggleable__label-arrow\">GridSearchCV</label><div class=\"sk-toggleable__content\"><pre>GridSearchCV(cv=10,\n",
       "             estimator=Pipeline(steps=[(&#x27;columntransformer&#x27;,\n",
       "                                        ColumnTransformer(remainder=&#x27;passthrough&#x27;,\n",
       "                                                          transformers=[(&#x27;numeric&#x27;,\n",
       "                                                                         Pipeline(steps=[(&#x27;standardscaler&#x27;,\n",
       "                                                                                          StandardScaler())]),\n",
       "                                                                         [&#x27;da030&#x27;,\n",
       "                                                                          &#x27;da031&#x27;,\n",
       "                                                                          &#x27;da050_1&#x27;]),\n",
       "                                                                        (&#x27;categorical&#x27;,\n",
       "                                                                         Pipeline(steps=[(&#x27;onehotencoder&#x27;,\n",
       "                                                                                          OneHotEncoder(handle_unknown=&#x27;ignore&#x27;))]),\n",
       "                                                                         [&#x27;communityUID&#x27;])])),\n",
       "                                       (&#x27;logisticregression&#x27;,\n",
       "                                        LogisticRegression(max_iter=10000))]),\n",
       "             n_jobs=-1,\n",
       "             param_grid={&#x27;logisticregression__C&#x27;: [0.001, 0.01, 0.1, 1, 10,\n",
       "                                                   100]},\n",
       "             verbose=2)</pre></div></div></div><div class=\"sk-parallel\"><div class=\"sk-parallel-item\"><div class=\"sk-item\"><div class=\"sk-label-container\"><div class=\"sk-label sk-toggleable\"><input class=\"sk-toggleable__control sk-hidden--visually\" id=\"sk-estimator-id-22\" type=\"checkbox\" ><label for=\"sk-estimator-id-22\" class=\"sk-toggleable__label sk-toggleable__label-arrow\">estimator: Pipeline</label><div class=\"sk-toggleable__content\"><pre>Pipeline(steps=[(&#x27;columntransformer&#x27;,\n",
       "                 ColumnTransformer(remainder=&#x27;passthrough&#x27;,\n",
       "                                   transformers=[(&#x27;numeric&#x27;,\n",
       "                                                  Pipeline(steps=[(&#x27;standardscaler&#x27;,\n",
       "                                                                   StandardScaler())]),\n",
       "                                                  [&#x27;da030&#x27;, &#x27;da031&#x27;,\n",
       "                                                   &#x27;da050_1&#x27;]),\n",
       "                                                 (&#x27;categorical&#x27;,\n",
       "                                                  Pipeline(steps=[(&#x27;onehotencoder&#x27;,\n",
       "                                                                   OneHotEncoder(handle_unknown=&#x27;ignore&#x27;))]),\n",
       "                                                  [&#x27;communityUID&#x27;])])),\n",
       "                (&#x27;logisticregression&#x27;, LogisticRegression(max_iter=10000))])</pre></div></div></div><div class=\"sk-serial\"><div class=\"sk-item\"><div class=\"sk-serial\"><div class=\"sk-item sk-dashed-wrapped\"><div class=\"sk-label-container\"><div class=\"sk-label sk-toggleable\"><input class=\"sk-toggleable__control sk-hidden--visually\" id=\"sk-estimator-id-23\" type=\"checkbox\" ><label for=\"sk-estimator-id-23\" class=\"sk-toggleable__label sk-toggleable__label-arrow\">columntransformer: ColumnTransformer</label><div class=\"sk-toggleable__content\"><pre>ColumnTransformer(remainder=&#x27;passthrough&#x27;,\n",
       "                  transformers=[(&#x27;numeric&#x27;,\n",
       "                                 Pipeline(steps=[(&#x27;standardscaler&#x27;,\n",
       "                                                  StandardScaler())]),\n",
       "                                 [&#x27;da030&#x27;, &#x27;da031&#x27;, &#x27;da050_1&#x27;]),\n",
       "                                (&#x27;categorical&#x27;,\n",
       "                                 Pipeline(steps=[(&#x27;onehotencoder&#x27;,\n",
       "                                                  OneHotEncoder(handle_unknown=&#x27;ignore&#x27;))]),\n",
       "                                 [&#x27;communityUID&#x27;])])</pre></div></div></div><div class=\"sk-parallel\"><div class=\"sk-parallel-item\"><div class=\"sk-item\"><div class=\"sk-label-container\"><div class=\"sk-label sk-toggleable\"><input class=\"sk-toggleable__control sk-hidden--visually\" id=\"sk-estimator-id-24\" type=\"checkbox\" ><label for=\"sk-estimator-id-24\" class=\"sk-toggleable__label sk-toggleable__label-arrow\">numeric</label><div class=\"sk-toggleable__content\"><pre>[&#x27;da030&#x27;, &#x27;da031&#x27;, &#x27;da050_1&#x27;]</pre></div></div></div><div class=\"sk-serial\"><div class=\"sk-item\"><div class=\"sk-serial\"><div class=\"sk-item\"><div class=\"sk-estimator sk-toggleable\"><input class=\"sk-toggleable__control sk-hidden--visually\" id=\"sk-estimator-id-25\" type=\"checkbox\" ><label for=\"sk-estimator-id-25\" class=\"sk-toggleable__label sk-toggleable__label-arrow\">StandardScaler</label><div class=\"sk-toggleable__content\"><pre>StandardScaler()</pre></div></div></div></div></div></div></div></div><div class=\"sk-parallel-item\"><div class=\"sk-item\"><div class=\"sk-label-container\"><div class=\"sk-label sk-toggleable\"><input class=\"sk-toggleable__control sk-hidden--visually\" id=\"sk-estimator-id-26\" type=\"checkbox\" ><label for=\"sk-estimator-id-26\" class=\"sk-toggleable__label sk-toggleable__label-arrow\">categorical</label><div class=\"sk-toggleable__content\"><pre>[&#x27;communityUID&#x27;]</pre></div></div></div><div class=\"sk-serial\"><div class=\"sk-item\"><div class=\"sk-serial\"><div class=\"sk-item\"><div class=\"sk-estimator sk-toggleable\"><input class=\"sk-toggleable__control sk-hidden--visually\" id=\"sk-estimator-id-27\" type=\"checkbox\" ><label for=\"sk-estimator-id-27\" class=\"sk-toggleable__label sk-toggleable__label-arrow\">OneHotEncoder</label><div class=\"sk-toggleable__content\"><pre>OneHotEncoder(handle_unknown=&#x27;ignore&#x27;)</pre></div></div></div></div></div></div></div></div><div class=\"sk-parallel-item\"><div class=\"sk-item\"><div class=\"sk-label-container\"><div class=\"sk-label sk-toggleable\"><input class=\"sk-toggleable__control sk-hidden--visually\" id=\"sk-estimator-id-28\" type=\"checkbox\" ><label for=\"sk-estimator-id-28\" class=\"sk-toggleable__label sk-toggleable__label-arrow\">remainder</label><div class=\"sk-toggleable__content\"><pre>[&#x27;ba001&#x27;, &#x27;ba009&#x27;, &#x27;ba011&#x27;, &#x27;ba014&#x27;, &#x27;ba015&#x27;, &#x27;ba016&#x27;, &#x27;ba017&#x27;, &#x27;da001&#x27;, &#x27;da002_1_&#x27;, &#x27;da002_2_&#x27;, &#x27;da002_3_&#x27;, &#x27;da002_4_&#x27;, &#x27;da002_5_&#x27;, &#x27;da002_6_&#x27;, &#x27;da002_7_&#x27;, &#x27;da002_8_&#x27;, &#x27;da002_9_&#x27;, &#x27;da002_10_&#x27;, &#x27;da002_11_&#x27;, &#x27;da002_12_&#x27;, &#x27;da002_13_&#x27;, &#x27;da002_14_&#x27;, &#x27;da019&#x27;, &#x27;da022&#x27;, &#x27;da025&#x27;, &#x27;da027&#x27;, &#x27;da029&#x27;, &#x27;da038_s1&#x27;, &#x27;da038_s2&#x27;, &#x27;da038_s3&#x27;, &#x27;da038_s4&#x27;, &#x27;da038_s5&#x27;, &#x27;da038_s6&#x27;, &#x27;da038_s7&#x27;, &#x27;da038_s8&#x27;, &#x27;da038_s9&#x27;, &#x27;da040&#x27;, &#x27;da051&#x27;, &#x27;db001&#x27;, &#x27;db003&#x27;, &#x27;db005&#x27;, &#x27;db007&#x27;, &#x27;db009&#x27;, &#x27;db011&#x27;, &#x27;db012&#x27;, &#x27;db014&#x27;, &#x27;db016&#x27;, &#x27;db018&#x27;, &#x27;db020&#x27;, &#x27;db022&#x27;, &#x27;fa001&#x27;, &#x27;fc006&#x27;, &#x27;fc008&#x27;]</pre></div></div></div><div class=\"sk-serial\"><div class=\"sk-item\"><div class=\"sk-estimator sk-toggleable\"><input class=\"sk-toggleable__control sk-hidden--visually\" id=\"sk-estimator-id-29\" type=\"checkbox\" ><label for=\"sk-estimator-id-29\" class=\"sk-toggleable__label sk-toggleable__label-arrow\">passthrough</label><div class=\"sk-toggleable__content\"><pre>passthrough</pre></div></div></div></div></div></div></div></div><div class=\"sk-item\"><div class=\"sk-estimator sk-toggleable\"><input class=\"sk-toggleable__control sk-hidden--visually\" id=\"sk-estimator-id-30\" type=\"checkbox\" ><label for=\"sk-estimator-id-30\" class=\"sk-toggleable__label sk-toggleable__label-arrow\">LogisticRegression</label><div class=\"sk-toggleable__content\"><pre>LogisticRegression(max_iter=10000)</pre></div></div></div></div></div></div></div></div></div></div></div></div>"
      ],
      "text/plain": [
       "GridSearchCV(cv=10,\n",
       "             estimator=Pipeline(steps=[('columntransformer',\n",
       "                                        ColumnTransformer(remainder='passthrough',\n",
       "                                                          transformers=[('numeric',\n",
       "                                                                         Pipeline(steps=[('standardscaler',\n",
       "                                                                                          StandardScaler())]),\n",
       "                                                                         ['da030',\n",
       "                                                                          'da031',\n",
       "                                                                          'da050_1']),\n",
       "                                                                        ('categorical',\n",
       "                                                                         Pipeline(steps=[('onehotencoder',\n",
       "                                                                                          OneHotEncoder(handle_unknown='ignore'))]),\n",
       "                                                                         ['communityUID'])])),\n",
       "                                       ('logisticregression',\n",
       "                                        LogisticRegression(max_iter=10000))]),\n",
       "             n_jobs=-1,\n",
       "             param_grid={'logisticregression__C': [0.001, 0.01, 0.1, 1, 10,\n",
       "                                                   100]},\n",
       "             verbose=2)"
      ]
     },
     "execution_count": 31,
     "metadata": {},
     "output_type": "execute_result"
    }
   ],
   "source": [
    "from sklearn.linear_model import LogisticRegression\n",
    "\n",
    "logi_pipe = make_pipeline(col_transformer,LogisticRegression(max_iter=10000))\n",
    "\n",
    "logi_params = {\n",
    "    'logisticregression__C': [0.001, 0.01, 0.1, 1, 10, 100]\n",
    "}\n",
    "\n",
    "logi_opt = GridSearchCV(logi_pipe,logi_params, cv=10, verbose=2, n_jobs=-1)\n",
    "logi_opt.fit(X_train,y_train)"
   ]
  },
  {
   "cell_type": "code",
   "execution_count": 32,
   "metadata": {},
   "outputs": [
    {
     "data": {
      "text/plain": [
       "fit_time       1.036903\n",
       "score_time     0.004459\n",
       "test_score     0.632724\n",
       "train_score    0.673891\n",
       "dtype: float64"
      ]
     },
     "execution_count": 32,
     "metadata": {},
     "output_type": "execute_result"
    }
   ],
   "source": [
    "logi_cv = cross_validate(logi_opt.best_estimator_,X_train,y_train,cv=10,return_train_score=True)\n",
    "pd.DataFrame(logi_cv).mean()"
   ]
  },
  {
   "cell_type": "markdown",
   "metadata": {},
   "source": [
    "The score seems good."
   ]
  },
  {
   "cell_type": "markdown",
   "metadata": {},
   "source": [
    "## 4. Models evaluation and selection \n",
    "\n",
    "We have several ways to evaluate and select the final "
   ]
  },
  {
   "cell_type": "markdown",
   "metadata": {},
   "source": [
    "### 4.1 accuracy and proper fitting meature"
   ]
  },
  {
   "cell_type": "code",
   "execution_count": 50,
   "metadata": {},
   "outputs": [
    {
     "data": {
      "text/html": [
       "<div>\n",
       "<style scoped>\n",
       "    .dataframe tbody tr th:only-of-type {\n",
       "        vertical-align: middle;\n",
       "    }\n",
       "\n",
       "    .dataframe tbody tr th {\n",
       "        vertical-align: top;\n",
       "    }\n",
       "\n",
       "    .dataframe thead th {\n",
       "        text-align: right;\n",
       "    }\n",
       "</style>\n",
       "<table border=\"1\" class=\"dataframe\">\n",
       "  <thead>\n",
       "    <tr style=\"text-align: right;\">\n",
       "      <th></th>\n",
       "      <th>fit_time</th>\n",
       "      <th>score_time</th>\n",
       "      <th>test_score</th>\n",
       "      <th>train_score</th>\n",
       "      <th>overfitting</th>\n",
       "      <th>betterThanDummy</th>\n",
       "    </tr>\n",
       "  </thead>\n",
       "  <tbody>\n",
       "    <tr>\n",
       "      <th>DMC</th>\n",
       "      <td>0.019198</td>\n",
       "      <td>0.004619</td>\n",
       "      <td>0.526647</td>\n",
       "      <td>0.526647</td>\n",
       "      <td>0.000009</td>\n",
       "      <td>0.000000</td>\n",
       "    </tr>\n",
       "    <tr>\n",
       "      <th>KNN</th>\n",
       "      <td>0.020194</td>\n",
       "      <td>0.222390</td>\n",
       "      <td>0.579598</td>\n",
       "      <td>1.000000</td>\n",
       "      <td>42.040173</td>\n",
       "      <td>10.054458</td>\n",
       "    </tr>\n",
       "    <tr>\n",
       "      <th>Tree</th>\n",
       "      <td>0.045963</td>\n",
       "      <td>0.004346</td>\n",
       "      <td>0.600933</td>\n",
       "      <td>0.619087</td>\n",
       "      <td>2.932319</td>\n",
       "      <td>14.105549</td>\n",
       "    </tr>\n",
       "    <tr>\n",
       "      <th>SVC</th>\n",
       "      <td>23.835082</td>\n",
       "      <td>0.603705</td>\n",
       "      <td>0.573226</td>\n",
       "      <td>1.000000</td>\n",
       "      <td>42.677365</td>\n",
       "      <td>8.844555</td>\n",
       "    </tr>\n",
       "    <tr>\n",
       "      <th>Logistic</th>\n",
       "      <td>1.036903</td>\n",
       "      <td>0.004459</td>\n",
       "      <td>0.632724</td>\n",
       "      <td>0.673891</td>\n",
       "      <td>6.108968</td>\n",
       "      <td>20.141937</td>\n",
       "    </tr>\n",
       "  </tbody>\n",
       "</table>\n",
       "</div>"
      ],
      "text/plain": [
       "           fit_time  score_time  test_score  train_score  overfitting   \n",
       "DMC        0.019198    0.004619    0.526647     0.526647     0.000009  \\\n",
       "KNN        0.020194    0.222390    0.579598     1.000000    42.040173   \n",
       "Tree       0.045963    0.004346    0.600933     0.619087     2.932319   \n",
       "SVC       23.835082    0.603705    0.573226     1.000000    42.677365   \n",
       "Logistic   1.036903    0.004459    0.632724     0.673891     6.108968   \n",
       "\n",
       "          betterThanDummy  \n",
       "DMC              0.000000  \n",
       "KNN             10.054458  \n",
       "Tree            14.105549  \n",
       "SVC              8.844555  \n",
       "Logistic        20.141937  "
      ]
     },
     "execution_count": 50,
     "metadata": {},
     "output_type": "execute_result"
    }
   ],
   "source": [
    "\n",
    "list_cv = [dmc_cv, knn_cv, tree_cv, svc_cv, logi_cv]\n",
    "columns = ['fit_time', 'score_time', 'test_score', 'train_score']\n",
    "model_names = ['DMC', 'KNN', 'Tree', 'SVC', 'Logistic']  # Add model names for clarity\n",
    "\n",
    "# Create a DataFrame for each model's CV results and compute the mean of each metric\n",
    "# Now also including model names to keep track of each row\n",
    "compare_cv = pd.concat([pd.DataFrame(i, columns=columns).mean() for i in list_cv], axis=1)\n",
    "\n",
    "# Transpose the DataFrame to have models as rows and metrics as columns\n",
    "compare_cv = compare_cv.T\n",
    "\n",
    "# Assign model names to the index for clarity\n",
    "compare_cv.index = model_names\n",
    "\n",
    "compare_cv['overfitting'] = (compare_cv.train_score - compare_cv.test_score) / compare_cv.train_score * 100\n",
    "compare_cv['betterThanDummy'] = (compare_cv.test_score - compare_cv.test_score[0]) / compare_cv.test_score[0] * 100\n",
    "compare_cv"
   ]
  },
  {
   "cell_type": "markdown",
   "metadata": {},
   "source": [
    "### 4.2 Confusion Matrix"
   ]
  },
  {
   "cell_type": "code",
   "execution_count": 53,
   "metadata": {},
   "outputs": [],
   "source": [
    "from sklearn.metrics import confusion_matrix\n",
    "from sklearn.metrics import ConfusionMatrixDisplay\n",
    "import matplotlib.pyplot as plt"
   ]
  },
  {
   "cell_type": "code",
   "execution_count": 54,
   "metadata": {},
   "outputs": [
    {
     "data": {
      "text/plain": [
       "<sklearn.metrics._plot.confusion_matrix.ConfusionMatrixDisplay at 0x28bd0a8b0>"
      ]
     },
     "execution_count": 54,
     "metadata": {},
     "output_type": "execute_result"
    },
    {
     "data": {
      "image/png": "[encoded data removed]",
      "text/plain": [
       "<Figure size 640x480 with 2 Axes>"
      ]
     },
     "metadata": {},
     "output_type": "display_data"
    }
   ],
   "source": [
    "cm = confusion_matrix(y_test, logi_opt.best_estimator_.predict(X_test))\n",
    "plt.rc('font', size=12) # bigger font sizes\n",
    "ConfusionMatrixDisplay(cm, display_labels=[\"No Exam\", \"Examed\"]).plot()"
   ]
  },
  {
   "cell_type": "code",
   "execution_count": 55,
   "metadata": {},
   "outputs": [
    {
     "data": {
      "text/plain": [
       "<sklearn.metrics._plot.confusion_matrix.ConfusionMatrixDisplay at 0x28a4c6f10>"
      ]
     },
     "execution_count": 55,
     "metadata": {},
     "output_type": "execute_result"
    },
    {
     "data": {
      "image/png": "[encoded data removed]",
      "text/plain": [
       "<Figure size 640x480 with 2 Axes>"
      ]
     },
     "metadata": {},
     "output_type": "display_data"
    }
   ],
   "source": [
    "cm = confusion_matrix(y_test, tree_opt.best_estimator_.predict(X_test))\n",
    "plt.rc('font', size=12) # bigger font sizes\n",
    "ConfusionMatrixDisplay(cm, display_labels=[\"No Exam\", \"Examed\"]).plot()"
   ]
  },
  {
   "cell_type": "code",
   "execution_count": 57,
   "metadata": {},
   "outputs": [
    {
     "name": "stdout",
     "output_type": "stream",
     "text": [
      "              precision    recall  f1-score   support\n",
      "\n",
      "     No Exam       0.60      0.56      0.58      1370\n",
      "      Examed       0.64      0.67      0.66      1572\n",
      "\n",
      "    accuracy                           0.62      2942\n",
      "   macro avg       0.62      0.62      0.62      2942\n",
      "weighted avg       0.62      0.62      0.62      2942\n",
      "\n",
      "              precision    recall  f1-score   support\n",
      "\n",
      "     No Exam       0.58      0.59      0.58      1370\n",
      "      Examed       0.64      0.62      0.63      1572\n",
      "\n",
      "    accuracy                           0.61      2942\n",
      "   macro avg       0.61      0.61      0.61      2942\n",
      "weighted avg       0.61      0.61      0.61      2942\n",
      "\n"
     ]
    }
   ],
   "source": [
    "from sklearn.metrics import classification_report\n",
    "\n",
    "print(\n",
    "    classification_report(\n",
    "        y_test,\n",
    "        logi_opt.best_estimator_.predict(X_test),\n",
    "        target_names=[\"No Exam\", \"Examed\"]\n",
    "    )\n",
    ")\n",
    "\n",
    "print(\n",
    "    classification_report(\n",
    "        y_test,\n",
    "        tree_opt.best_estimator_.predict(X_test),\n",
    "        target_names=[\"No Exam\", \"Examed\"]\n",
    "    )\n",
    ")"
   ]
  },
  {
   "cell_type": "markdown",
   "metadata": {},
   "source": [
    "Logistic Regression Model\n",
    "Precision: Average precision is similar for both classes, with a slightly higher precision for \"Examed\" (0.64).\n",
    "Recall: Slightly favors \"Examed\" with a recall of 0.67, indicating it's slightly better at identifying true positives for \"Examed\" than for \"No Exam\".\n",
    "F1-Score: Higher for \"Examed\" (0.66) compared to \"No Exam\" (0.58), suggesting a better balance between precision and recall for \"Examed\".\n",
    "Accuracy: Overall accuracy is 0.62, indicating that 62% of the predictions were correct.\n",
    "Decision Tree Model\n",
    "Precision: Similar to the logistic regression model, but with a slight decrease in precision for \"Examed\".\n",
    "Recall: The recall for \"No Exam\" is slightly higher than for the logistic regression model, indicating it's slightly better at identifying true positives for \"No Exam\".\n",
    "F1-Score: The f1-scores are very close to those of the logistic regression model but slightly lower for both classes.\n",
    "Accuracy: Overall accuracy is 0.61, slightly lower than the logistic regression model.\n",
    "Evaluation and Comparison\n",
    "Accuracy: Both models have similar accuracy, with logistic regression slightly outperforming the decision tree (0.62 vs. 0.61).\n",
    "Precision and Recall: The logistic regression model shows a balanced performance between the two classes and slightly outperforms the decision tree in precision for \"Examed\" and recall for the same class.\n",
    "F1-Score: Reflects a balance of precision and recall, with the logistic regression model showing a slightly better performance for \"Examed\".\n",
    "Conclusion: The logistic regression model performs slightly better overall, considering the balance between precision, recall, and the higher f1-scores for both classes. While the differences are not substantial, the logistic regression model's slightly higher accuracy and balanced performance across metrics suggest it is the better model of the two for this specific evaluation. However, the choice between models could also be influenced by other factors such as the cost of false positives vs. false negatives, the interpretability of the model, and how the model fits into the larger application context."
   ]
  },
  {
   "cell_type": "markdown",
   "metadata": {},
   "source": [
    "## 5. The most importance feature"
   ]
  },
  {
   "cell_type": "markdown",
   "metadata": {},
   "source": [
    "### 5.1 Tree features\n"
   ]
  },
  {
   "cell_type": "code",
   "execution_count": 86,
   "metadata": {},
   "outputs": [
    {
     "name": "stdout",
     "output_type": "stream",
     "text": [
      "ba009: 0.041849088537890086\n",
      "communityUID: 0.02141437138550713\n",
      "da002_11_: 0.01688591378938467\n",
      "ba001: 0.0\n",
      "ba011: 0.0\n",
      "ba014: 0.0\n",
      "ba015: 0.0\n",
      "ba016: 0.0\n",
      "ba017: 0.0\n",
      "da001: 0.0\n"
     ]
    }
   ],
   "source": [
    "# Step 1 & 2: Access the Decision Tree model from the best estimator of RandomizedSearchCV\n",
    "best_tree = tree_opt.best_estimator_.named_steps['tree']  # Replace 'decision_tree' with the actual name you used in your pipeline\n",
    "\n",
    "# Step 3: Get feature importances\n",
    "feature_importances = best_tree.feature_importances_\n",
    "\n",
    "# Ensure that you have feature names available, for instance, from your X_train DataFrame\n",
    "feature_names = X_train.columns\n",
    "\n",
    "# Step 4: Sort the features by their importance and identify the top 10\n",
    "important_features = sorted(zip(feature_names, feature_importances), key=lambda x: x[1], reverse=True)[:10]\n",
    "\n",
    "# Print the top 10 important features\n",
    "for feature, importance in important_features:\n",
    "    print(f\"{feature}: {importance}\")\n"
   ]
  }
 ],
 "metadata": {
  "kernelspec": {
   "display_name": "Python 3",
   "language": "python",
   "name": "python3"
  },
  "language_info": {
   "codemirror_mode": {
    "name": "ipython",
    "version": 3
   },
   "file_extension": ".py",
   "mimetype": "text/x-python",
   "name": "python",
   "nbconvert_exporter": "python",
   "pygments_lexer": "ipython3",
   "version": "3.9.6"
  }
 },
 "nbformat": 4,
 "nbformat_minor": 2
}
