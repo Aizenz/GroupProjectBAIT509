{
 "cells": [
  {
   "cell_type": "markdown",
   "metadata": {},
   "source": [
    "* Models we have learnt\n",
    "* Classification-> Target: Categorical or binary\n",
    "  * DummyClassifier\n",
    "  * DecisionTree\n",
    "  * KNN\n",
    "  * Naive Bayers -> Text content extraction\n",
    "  * Logistics Regression\n",
    "* Prediction-> Target: Numeric, continous\n",
    "  * DummyPrediction\n",
    "  * Linear Regression\n",
    "  * *Non-Linear Regression (Not Covered)*\n",
    "* Preprocessing:\n",
    "  * imputering->fillna\n",
    "  * encode:\n",
    "    * ordinal\n",
    "    * one-hot\n",
    "  * scalaring-> for SVM like model\n",
    "  * standarlizing-> for SVM like model\n",
    "  * column transformation\n",
    "  * make_pipline\n",
    "* Hyperparameter Optimazation\n",
    "  * validation check\n",
    "  * grid/random search\n",
    "* Final:\n",
    "  * data visualization:\n",
    "    * descriptive analysis\n",
    "    * decision boundaries\n",
    "    * tree map\n",
    "    * validation/train score\n",
    "  * report delivery"
   ]
  },
  {
   "cell_type": "code",
   "execution_count": 1,
   "metadata": {},
   "outputs": [],
   "source": [
    "# create sql connection\n",
    "from sqlalchemy import create_engine\n",
    "import pandas as pd\n",
    "import json\n",
    "import urllib.parse\n",
    "import psycopg2\n",
    "import os \n",
    "with open(\"credentials.json\") as file:\n",
    "    login = json.load(file)\n",
    "    \n",
    "username = login['user']\n",
    "password = urllib.parse.quote(login['password'])\n",
    "host = login['host']\n",
    "port = login['port']\n",
    "\n",
    "engine = create_engine(\"postgresql://{}:{}@{}:{}/postgres\".format(username,password,host,port))"
   ]
  },
  {
   "cell_type": "code",
   "execution_count": null,
   "metadata": {},
   "outputs": [],
   "source": []
  }
 ],
 "metadata": {
  "kernelspec": {
   "display_name": "Python 3",
   "language": "python",
   "name": "python3"
  },
  "language_info": {
   "codemirror_mode": {
    "name": "ipython",
    "version": 3
   },
   "file_extension": ".py",
   "mimetype": "text/x-python",
   "name": "python",
   "nbconvert_exporter": "python",
   "pygments_lexer": "ipython3",
   "version": "3.9.6"
  }
 },
 "nbformat": 4,
 "nbformat_minor": 2
}
