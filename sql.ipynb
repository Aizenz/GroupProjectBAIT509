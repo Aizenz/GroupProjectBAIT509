{
 "cells": [
  {
   "cell_type": "markdown",
   "metadata": {},
   "source": [
    "# Do not use this file"
   ]
  },
  {
   "cell_type": "code",
   "execution_count": 3,
   "metadata": {},
   "outputs": [],
   "source": [
    "from sqlalchemy import create_engine\n",
    "import pandas as pd\n",
    "import json\n",
    "import urllib.parse\n",
    "import psycopg2\n",
    "import os \n",
    "with open(\"credentials.json\") as file:\n",
    "    login = json.load(file)\n",
    "    \n",
    "username = login['user']\n",
    "password = urllib.parse.quote(login['password'])\n",
    "host = login['host']\n",
    "port = login['port']\n",
    "\n",
    "engine = create_engine(\"postgresql://{}:{}@{}:{}/postgres\".format(username,password,host,port))\n",
    "path = \"charles/2020/CHARLS2020r/\""
   ]
  },
  {
   "cell_type": "code",
   "execution_count": 4,
   "metadata": {},
   "outputs": [],
   "source": [
    "# this script is using to establish sql database\n",
    "\n",
    "files = os.listdir(path)\n",
    "with engine.begin() as connection:    \n",
    "    for file in files:\n",
    "        df = pd.read_stata(path + file)\n",
    "        df.columns = [col.replace('ID', 'UID') if 'ID' in col else col for col in df.columns]\n",
    "        df.to_sql(name = file[:-4], con = connection, index=False, schema='charles',if_exists='replace')\n"
   ]
  },
  {
   "cell_type": "code",
   "execution_count": 6,
   "metadata": {},
   "outputs": [
    {
     "ename": "IndexError",
     "evalue": "Replacement index 1 out of range for positional args tuple",
     "output_type": "error",
     "traceback": [
      "\u001b[0;31m---------------------------------------------------------------------------\u001b[0m",
      "\u001b[0;31mIndexError\u001b[0m                                Traceback (most recent call last)",
      "Cell \u001b[0;32mIn[6], line 4\u001b[0m\n\u001b[1;32m      2\u001b[0m \u001b[38;5;28;01mwith\u001b[39;00m engine\u001b[38;5;241m.\u001b[39mconnect() \u001b[38;5;28;01mas\u001b[39;00m cnn:\n\u001b[1;32m      3\u001b[0m     \u001b[38;5;28;01mfor\u001b[39;00m file \u001b[38;5;129;01min\u001b[39;00m file:\n\u001b[0;32m----> 4\u001b[0m         cnn\u001b[38;5;241m.\u001b[39mexecute(\u001b[38;5;124;43m'\u001b[39;49m\u001b[38;5;124;43mALTER TABLE charles.\u001b[39;49m\u001b[38;5;124;43m\"\u001b[39;49m\u001b[38;5;132;43;01m{}\u001b[39;49;00m\u001b[38;5;124;43m\"\u001b[39;49m\u001b[38;5;124;43m RENAME TO \u001b[39;49m\u001b[38;5;132;43;01m{}\u001b[39;49;00m\u001b[38;5;124;43m;\u001b[39;49m\u001b[38;5;124;43m'\u001b[39;49m\u001b[38;5;241;43m.\u001b[39;49m\u001b[43mformat\u001b[49m\u001b[43m(\u001b[49m\u001b[43mfile\u001b[49m\u001b[43m[\u001b[49m\u001b[43m:\u001b[49m\u001b[38;5;241;43m-\u001b[39;49m\u001b[38;5;241;43m4\u001b[39;49m\u001b[43m]\u001b[49m\u001b[43m)\u001b[49m,file[:\u001b[38;5;241m-\u001b[39m\u001b[38;5;241m4\u001b[39m]\u001b[38;5;241m.\u001b[39mlower())\n",
      "\u001b[0;31mIndexError\u001b[0m: Replacement index 1 out of range for positional args tuple"
     ]
    }
   ],
   "source": [
    "files = os.listdir(path)\n",
    "with engine.connect() as cnn:\n",
    "    for file in file:\n",
    "        cnn.execute('ALTER TABLE charles.\"{}\" RENAME TO {};'.format(file[:-4]),file[:-4].lower())"
   ]
  },
  {
   "cell_type": "code",
   "execution_count": null,
   "metadata": {},
   "outputs": [],
   "source": [
    "from sqlalchemy import MetaData, Table\n",
    "\n",
    "metadata = MetaData()\n",
    "\n",
    "for file in files:\n",
    "    table_to_drop = Table(file[:-4], metadata, autoload_with=engine)\n",
    "    table_to_drop.drop(engine)"
   ]
  }
 ],
 "metadata": {
  "kernelspec": {
   "display_name": "Python 3",
   "language": "python",
   "name": "python3"
  },
  "language_info": {
   "codemirror_mode": {
    "name": "ipython",
    "version": 3
   },
   "file_extension": ".py",
   "mimetype": "text/x-python",
   "name": "python",
   "nbconvert_exporter": "python",
   "pygments_lexer": "ipython3",
   "version": "3.9.6"
  }
 },
 "nbformat": 4,
 "nbformat_minor": 2
}
