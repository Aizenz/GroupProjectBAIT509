{
 "cells": [
  {
   "cell_type": "code",
   "execution_count": 1,
   "metadata": {},
   "outputs": [],
   "source": [
    "from sqlalchemy import create_engine\n",
    "import pandas as pd\n",
    "import json\n",
    "import urllib.parse\n",
    "import psycopg2\n",
    "import os \n",
    "with open(\"credentials.json\") as file:\n",
    "    login = json.load(file)\n",
    "    \n",
    "username = login['user']\n",
    "password = urllib.parse.quote(login['password'])\n",
    "host = login['host']\n",
    "port = login['port']\n",
    "\n",
    "engine = create_engine(\"postgresql://{}:{}@{}:{}/postgres\".format(username,password,host,port))\n"
   ]
  },
  {
   "cell_type": "code",
   "execution_count": 2,
   "metadata": {},
   "outputs": [],
   "source": [
    "# this script is using to establish sql database\n",
    "path = \"path_to_data\"\n",
    "\n",
    "files = os.listdir(path)\n",
    "with engine.begin() as connection:    \n",
    "    for file in files:\n",
    "        df = pd.read_stata(path + file)\n",
    "        df.to_sql(name = file, con = connection, index=False)\n"
   ]
  }
 ],
 "metadata": {
  "kernelspec": {
   "display_name": "Python 3",
   "language": "python",
   "name": "python3"
  },
  "language_info": {
   "codemirror_mode": {
    "name": "ipython",
    "version": 3
   },
   "file_extension": ".py",
   "mimetype": "text/x-python",
   "name": "python",
   "nbconvert_exporter": "python",
   "pygments_lexer": "ipython3",
   "version": "3.9.6"
  }
 },
 "nbformat": 4,
 "nbformat_minor": 2
}
